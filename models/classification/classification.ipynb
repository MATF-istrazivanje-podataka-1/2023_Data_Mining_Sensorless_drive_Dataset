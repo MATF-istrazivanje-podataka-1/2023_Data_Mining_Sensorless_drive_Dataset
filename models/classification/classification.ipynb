{
 "cells": [
  {
   "cell_type": "code",
   "execution_count": 181,
   "id": "c0ddb6ea",
   "metadata": {},
   "outputs": [],
   "source": [
    "#ucitavamo osnovni, PCA i RFE trening skup"
   ]
  },
  {
   "cell_type": "code",
   "execution_count": 182,
   "id": "d15ce784",
   "metadata": {},
   "outputs": [],
   "source": [
    "%store -r train_sets"
   ]
  },
  {
   "cell_type": "code",
   "execution_count": 183,
   "id": "c0c5addd",
   "metadata": {},
   "outputs": [],
   "source": [
    "%store -r test_sets"
   ]
  },
  {
   "cell_type": "code",
   "execution_count": 184,
   "id": "6e0bbda6",
   "metadata": {},
   "outputs": [],
   "source": [
    "%store -r y_train"
   ]
  },
  {
   "cell_type": "code",
   "execution_count": 185,
   "id": "9ac00859",
   "metadata": {},
   "outputs": [],
   "source": [
    "%store -r y_test"
   ]
  },
  {
   "cell_type": "code",
   "execution_count": 212,
   "id": "d906a7c0",
   "metadata": {},
   "outputs": [],
   "source": [
    "%store -r train_sets_KNN"
   ]
  },
  {
   "cell_type": "code",
   "execution_count": 213,
   "id": "a76163ae",
   "metadata": {},
   "outputs": [],
   "source": [
    "%store -r test_sets_KNN"
   ]
  },
  {
   "cell_type": "code",
   "execution_count": 186,
   "id": "1661a885",
   "metadata": {},
   "outputs": [],
   "source": [
    "from sklearn.model_selection import GridSearchCV"
   ]
  },
  {
   "cell_type": "code",
   "execution_count": null,
   "id": "e50fb19c",
   "metadata": {},
   "outputs": [],
   "source": []
  },
  {
   "cell_type": "code",
   "execution_count": 187,
   "id": "7d04d734",
   "metadata": {},
   "outputs": [],
   "source": [
    "#desicion tree classifier"
   ]
  },
  {
   "cell_type": "code",
   "execution_count": 188,
   "id": "d71cf2ea",
   "metadata": {},
   "outputs": [],
   "source": [
    "from sklearn.tree import DecisionTreeClassifier"
   ]
  },
  {
   "cell_type": "code",
   "execution_count": 189,
   "id": "67185d11",
   "metadata": {},
   "outputs": [],
   "source": [
    "params = {\n",
    "            'criterion' : ['gini', 'entropy'],\n",
    "            'min_samples_split' : [2, 3, 4, 5, 6]\n",
    "         }"
   ]
  },
  {
   "cell_type": "code",
   "execution_count": 190,
   "id": "d4603c33",
   "metadata": {},
   "outputs": [],
   "source": [
    "model_GS_DST = GridSearchCV(\n",
    "    DecisionTreeClassifier(),\n",
    "    params,\n",
    "    scoring = 'accuracy',\n",
    "    cv = 5,\n",
    "    verbose = 4)"
   ]
  },
  {
   "cell_type": "code",
   "execution_count": 191,
   "id": "ddc3946b",
   "metadata": {},
   "outputs": [],
   "source": [
    "import time"
   ]
  },
  {
   "cell_type": "code",
   "execution_count": 192,
   "id": "2019708f",
   "metadata": {},
   "outputs": [
    {
     "name": "stdout",
     "output_type": "stream",
     "text": [
      "normal\n",
      "Fitting 5 folds for each of 10 candidates, totalling 50 fits\n",
      "[CV 1/5] END criterion=gini, min_samples_split=2;, score=0.981 total time=   2.0s\n",
      "[CV 2/5] END criterion=gini, min_samples_split=2;, score=0.981 total time=   2.1s\n",
      "[CV 3/5] END criterion=gini, min_samples_split=2;, score=0.984 total time=   2.1s\n",
      "[CV 4/5] END criterion=gini, min_samples_split=2;, score=0.981 total time=   2.0s\n",
      "[CV 5/5] END criterion=gini, min_samples_split=2;, score=0.982 total time=   2.1s\n",
      "[CV 1/5] END criterion=gini, min_samples_split=3;, score=0.981 total time=   2.0s\n",
      "[CV 2/5] END criterion=gini, min_samples_split=3;, score=0.981 total time=   2.2s\n",
      "[CV 3/5] END criterion=gini, min_samples_split=3;, score=0.983 total time=   2.0s\n",
      "[CV 4/5] END criterion=gini, min_samples_split=3;, score=0.982 total time=   2.0s\n",
      "[CV 5/5] END criterion=gini, min_samples_split=3;, score=0.982 total time=   2.1s\n",
      "[CV 1/5] END criterion=gini, min_samples_split=4;, score=0.982 total time=   2.0s\n",
      "[CV 2/5] END criterion=gini, min_samples_split=4;, score=0.980 total time=   2.0s\n",
      "[CV 3/5] END criterion=gini, min_samples_split=4;, score=0.983 total time=   2.0s\n",
      "[CV 4/5] END criterion=gini, min_samples_split=4;, score=0.980 total time=   2.0s\n",
      "[CV 5/5] END criterion=gini, min_samples_split=4;, score=0.981 total time=   2.0s\n",
      "[CV 1/5] END criterion=gini, min_samples_split=5;, score=0.981 total time=   2.0s\n",
      "[CV 2/5] END criterion=gini, min_samples_split=5;, score=0.980 total time=   2.2s\n",
      "[CV 3/5] END criterion=gini, min_samples_split=5;, score=0.986 total time=   2.1s\n",
      "[CV 4/5] END criterion=gini, min_samples_split=5;, score=0.982 total time=   2.1s\n",
      "[CV 5/5] END criterion=gini, min_samples_split=5;, score=0.982 total time=   2.1s\n",
      "[CV 1/5] END criterion=gini, min_samples_split=6;, score=0.982 total time=   2.4s\n",
      "[CV 2/5] END criterion=gini, min_samples_split=6;, score=0.980 total time=   2.4s\n",
      "[CV 3/5] END criterion=gini, min_samples_split=6;, score=0.984 total time=   2.4s\n",
      "[CV 4/5] END criterion=gini, min_samples_split=6;, score=0.981 total time=   2.4s\n",
      "[CV 5/5] END criterion=gini, min_samples_split=6;, score=0.982 total time=   2.3s\n",
      "[CV 1/5] END criterion=entropy, min_samples_split=2;, score=0.986 total time=   2.9s\n",
      "[CV 2/5] END criterion=entropy, min_samples_split=2;, score=0.988 total time=   2.8s\n",
      "[CV 3/5] END criterion=entropy, min_samples_split=2;, score=0.985 total time=   2.8s\n",
      "[CV 4/5] END criterion=entropy, min_samples_split=2;, score=0.986 total time=   2.9s\n",
      "[CV 5/5] END criterion=entropy, min_samples_split=2;, score=0.986 total time=   2.8s\n",
      "[CV 1/5] END criterion=entropy, min_samples_split=3;, score=0.986 total time=   2.8s\n",
      "[CV 2/5] END criterion=entropy, min_samples_split=3;, score=0.988 total time=   2.5s\n",
      "[CV 3/5] END criterion=entropy, min_samples_split=3;, score=0.985 total time=   2.5s\n",
      "[CV 4/5] END criterion=entropy, min_samples_split=3;, score=0.987 total time=   2.5s\n",
      "[CV 5/5] END criterion=entropy, min_samples_split=3;, score=0.986 total time=   2.7s\n",
      "[CV 1/5] END criterion=entropy, min_samples_split=4;, score=0.984 total time=   2.9s\n",
      "[CV 2/5] END criterion=entropy, min_samples_split=4;, score=0.988 total time=   2.8s\n",
      "[CV 3/5] END criterion=entropy, min_samples_split=4;, score=0.985 total time=   2.8s\n",
      "[CV 4/5] END criterion=entropy, min_samples_split=4;, score=0.987 total time=   2.8s\n",
      "[CV 5/5] END criterion=entropy, min_samples_split=4;, score=0.985 total time=   2.9s\n",
      "[CV 1/5] END criterion=entropy, min_samples_split=5;, score=0.985 total time=   2.8s\n",
      "[CV 2/5] END criterion=entropy, min_samples_split=5;, score=0.988 total time=   2.7s\n",
      "[CV 3/5] END criterion=entropy, min_samples_split=5;, score=0.986 total time=   2.9s\n",
      "[CV 4/5] END criterion=entropy, min_samples_split=5;, score=0.987 total time=   2.9s\n",
      "[CV 5/5] END criterion=entropy, min_samples_split=5;, score=0.985 total time=   2.8s\n",
      "[CV 1/5] END criterion=entropy, min_samples_split=6;, score=0.985 total time=   3.0s\n",
      "[CV 2/5] END criterion=entropy, min_samples_split=6;, score=0.987 total time=   2.8s\n",
      "[CV 3/5] END criterion=entropy, min_samples_split=6;, score=0.985 total time=   2.9s\n",
      "[CV 4/5] END criterion=entropy, min_samples_split=6;, score=0.987 total time=   2.6s\n",
      "[CV 5/5] END criterion=entropy, min_samples_split=6;, score=0.984 total time=   2.5s\n",
      "125.23302674293518\n",
      "PCA\n",
      "Fitting 5 folds for each of 10 candidates, totalling 50 fits\n",
      "[CV 1/5] END criterion=gini, min_samples_split=2;, score=0.974 total time=   0.6s\n",
      "[CV 2/5] END criterion=gini, min_samples_split=2;, score=0.977 total time=   0.6s\n",
      "[CV 3/5] END criterion=gini, min_samples_split=2;, score=0.979 total time=   0.6s\n",
      "[CV 4/5] END criterion=gini, min_samples_split=2;, score=0.977 total time=   0.6s\n",
      "[CV 5/5] END criterion=gini, min_samples_split=2;, score=0.977 total time=   0.7s\n",
      "[CV 1/5] END criterion=gini, min_samples_split=3;, score=0.973 total time=   0.6s\n",
      "[CV 2/5] END criterion=gini, min_samples_split=3;, score=0.977 total time=   0.6s\n",
      "[CV 3/5] END criterion=gini, min_samples_split=3;, score=0.978 total time=   0.6s\n",
      "[CV 4/5] END criterion=gini, min_samples_split=3;, score=0.977 total time=   0.6s\n",
      "[CV 5/5] END criterion=gini, min_samples_split=3;, score=0.975 total time=   0.6s\n",
      "[CV 1/5] END criterion=gini, min_samples_split=4;, score=0.973 total time=   0.7s\n",
      "[CV 2/5] END criterion=gini, min_samples_split=4;, score=0.976 total time=   0.7s\n",
      "[CV 3/5] END criterion=gini, min_samples_split=4;, score=0.979 total time=   0.7s\n",
      "[CV 4/5] END criterion=gini, min_samples_split=4;, score=0.976 total time=   0.7s\n",
      "[CV 5/5] END criterion=gini, min_samples_split=4;, score=0.976 total time=   0.8s\n",
      "[CV 1/5] END criterion=gini, min_samples_split=5;, score=0.973 total time=   0.8s\n",
      "[CV 2/5] END criterion=gini, min_samples_split=5;, score=0.975 total time=   0.7s\n",
      "[CV 3/5] END criterion=gini, min_samples_split=5;, score=0.978 total time=   0.7s\n",
      "[CV 4/5] END criterion=gini, min_samples_split=5;, score=0.975 total time=   0.6s\n",
      "[CV 5/5] END criterion=gini, min_samples_split=5;, score=0.974 total time=   0.7s\n",
      "[CV 1/5] END criterion=gini, min_samples_split=6;, score=0.972 total time=   0.7s\n",
      "[CV 2/5] END criterion=gini, min_samples_split=6;, score=0.976 total time=   0.7s\n",
      "[CV 3/5] END criterion=gini, min_samples_split=6;, score=0.979 total time=   0.6s\n",
      "[CV 4/5] END criterion=gini, min_samples_split=6;, score=0.975 total time=   0.7s\n",
      "[CV 5/5] END criterion=gini, min_samples_split=6;, score=0.974 total time=   0.7s\n",
      "[CV 1/5] END criterion=entropy, min_samples_split=2;, score=0.982 total time=   1.2s\n",
      "[CV 2/5] END criterion=entropy, min_samples_split=2;, score=0.979 total time=   1.2s\n",
      "[CV 3/5] END criterion=entropy, min_samples_split=2;, score=0.982 total time=   1.2s\n",
      "[CV 4/5] END criterion=entropy, min_samples_split=2;, score=0.982 total time=   1.1s\n",
      "[CV 5/5] END criterion=entropy, min_samples_split=2;, score=0.979 total time=   1.2s\n",
      "[CV 1/5] END criterion=entropy, min_samples_split=3;, score=0.982 total time=   1.4s\n",
      "[CV 2/5] END criterion=entropy, min_samples_split=3;, score=0.981 total time=   1.1s\n",
      "[CV 3/5] END criterion=entropy, min_samples_split=3;, score=0.983 total time=   1.3s\n",
      "[CV 4/5] END criterion=entropy, min_samples_split=3;, score=0.982 total time=   1.1s\n",
      "[CV 5/5] END criterion=entropy, min_samples_split=3;, score=0.979 total time=   1.2s\n",
      "[CV 1/5] END criterion=entropy, min_samples_split=4;, score=0.982 total time=   1.3s\n",
      "[CV 2/5] END criterion=entropy, min_samples_split=4;, score=0.980 total time=   1.6s\n",
      "[CV 3/5] END criterion=entropy, min_samples_split=4;, score=0.982 total time=   1.5s\n",
      "[CV 4/5] END criterion=entropy, min_samples_split=4;, score=0.982 total time=   1.3s\n",
      "[CV 5/5] END criterion=entropy, min_samples_split=4;, score=0.979 total time=   1.2s\n",
      "[CV 1/5] END criterion=entropy, min_samples_split=5;, score=0.982 total time=   1.2s\n",
      "[CV 2/5] END criterion=entropy, min_samples_split=5;, score=0.981 total time=   1.3s\n",
      "[CV 3/5] END criterion=entropy, min_samples_split=5;, score=0.982 total time=   1.2s\n",
      "[CV 4/5] END criterion=entropy, min_samples_split=5;, score=0.981 total time=   1.2s\n",
      "[CV 5/5] END criterion=entropy, min_samples_split=5;, score=0.978 total time=   1.2s\n",
      "[CV 1/5] END criterion=entropy, min_samples_split=6;, score=0.981 total time=   1.3s\n",
      "[CV 2/5] END criterion=entropy, min_samples_split=6;, score=0.980 total time=   1.6s\n"
     ]
    },
    {
     "name": "stdout",
     "output_type": "stream",
     "text": [
      "[CV 3/5] END criterion=entropy, min_samples_split=6;, score=0.982 total time=   1.7s\n",
      "[CV 4/5] END criterion=entropy, min_samples_split=6;, score=0.981 total time=   2.2s\n",
      "[CV 5/5] END criterion=entropy, min_samples_split=6;, score=0.978 total time=   2.2s\n",
      "53.6069061756134\n",
      "RFE\n",
      "Fitting 5 folds for each of 10 candidates, totalling 50 fits\n",
      "[CV 1/5] END criterion=gini, min_samples_split=2;, score=0.988 total time=   0.5s\n",
      "[CV 2/5] END criterion=gini, min_samples_split=2;, score=0.986 total time=   0.6s\n",
      "[CV 3/5] END criterion=gini, min_samples_split=2;, score=0.989 total time=   0.6s\n",
      "[CV 4/5] END criterion=gini, min_samples_split=2;, score=0.984 total time=   0.5s\n",
      "[CV 5/5] END criterion=gini, min_samples_split=2;, score=0.988 total time=   0.6s\n",
      "[CV 1/5] END criterion=gini, min_samples_split=3;, score=0.988 total time=   0.6s\n",
      "[CV 2/5] END criterion=gini, min_samples_split=3;, score=0.987 total time=   0.6s\n",
      "[CV 3/5] END criterion=gini, min_samples_split=3;, score=0.989 total time=   0.6s\n",
      "[CV 4/5] END criterion=gini, min_samples_split=3;, score=0.984 total time=   0.6s\n",
      "[CV 5/5] END criterion=gini, min_samples_split=3;, score=0.987 total time=   0.6s\n",
      "[CV 1/5] END criterion=gini, min_samples_split=4;, score=0.988 total time=   0.6s\n",
      "[CV 2/5] END criterion=gini, min_samples_split=4;, score=0.988 total time=   0.6s\n",
      "[CV 3/5] END criterion=gini, min_samples_split=4;, score=0.990 total time=   0.6s\n",
      "[CV 4/5] END criterion=gini, min_samples_split=4;, score=0.984 total time=   0.6s\n",
      "[CV 5/5] END criterion=gini, min_samples_split=4;, score=0.987 total time=   0.6s\n",
      "[CV 1/5] END criterion=gini, min_samples_split=5;, score=0.987 total time=   0.6s\n",
      "[CV 2/5] END criterion=gini, min_samples_split=5;, score=0.987 total time=   0.7s\n",
      "[CV 3/5] END criterion=gini, min_samples_split=5;, score=0.989 total time=   0.7s\n",
      "[CV 4/5] END criterion=gini, min_samples_split=5;, score=0.985 total time=   0.7s\n",
      "[CV 5/5] END criterion=gini, min_samples_split=5;, score=0.986 total time=   0.7s\n",
      "[CV 1/5] END criterion=gini, min_samples_split=6;, score=0.987 total time=   0.6s\n",
      "[CV 2/5] END criterion=gini, min_samples_split=6;, score=0.986 total time=   0.6s\n",
      "[CV 3/5] END criterion=gini, min_samples_split=6;, score=0.989 total time=   0.6s\n",
      "[CV 4/5] END criterion=gini, min_samples_split=6;, score=0.985 total time=   0.6s\n",
      "[CV 5/5] END criterion=gini, min_samples_split=6;, score=0.986 total time=   0.7s\n",
      "[CV 1/5] END criterion=entropy, min_samples_split=2;, score=0.991 total time=   1.0s\n",
      "[CV 2/5] END criterion=entropy, min_samples_split=2;, score=0.990 total time=   1.1s\n",
      "[CV 3/5] END criterion=entropy, min_samples_split=2;, score=0.989 total time=   0.9s\n",
      "[CV 4/5] END criterion=entropy, min_samples_split=2;, score=0.989 total time=   1.0s\n",
      "[CV 5/5] END criterion=entropy, min_samples_split=2;, score=0.990 total time=   1.0s\n",
      "[CV 1/5] END criterion=entropy, min_samples_split=3;, score=0.992 total time=   0.9s\n",
      "[CV 2/5] END criterion=entropy, min_samples_split=3;, score=0.990 total time=   1.1s\n",
      "[CV 3/5] END criterion=entropy, min_samples_split=3;, score=0.989 total time=   1.2s\n",
      "[CV 4/5] END criterion=entropy, min_samples_split=3;, score=0.988 total time=   1.0s\n",
      "[CV 5/5] END criterion=entropy, min_samples_split=3;, score=0.989 total time=   1.0s\n",
      "[CV 1/5] END criterion=entropy, min_samples_split=4;, score=0.991 total time=   1.1s\n",
      "[CV 2/5] END criterion=entropy, min_samples_split=4;, score=0.990 total time=   1.2s\n",
      "[CV 3/5] END criterion=entropy, min_samples_split=4;, score=0.990 total time=   0.8s\n",
      "[CV 4/5] END criterion=entropy, min_samples_split=4;, score=0.987 total time=   0.7s\n",
      "[CV 5/5] END criterion=entropy, min_samples_split=4;, score=0.989 total time=   0.8s\n",
      "[CV 1/5] END criterion=entropy, min_samples_split=5;, score=0.992 total time=   0.8s\n",
      "[CV 2/5] END criterion=entropy, min_samples_split=5;, score=0.989 total time=   0.8s\n",
      "[CV 3/5] END criterion=entropy, min_samples_split=5;, score=0.990 total time=   0.8s\n",
      "[CV 4/5] END criterion=entropy, min_samples_split=5;, score=0.987 total time=   0.8s\n",
      "[CV 5/5] END criterion=entropy, min_samples_split=5;, score=0.990 total time=   1.1s\n",
      "[CV 1/5] END criterion=entropy, min_samples_split=6;, score=0.991 total time=   0.9s\n",
      "[CV 2/5] END criterion=entropy, min_samples_split=6;, score=0.989 total time=   1.1s\n",
      "[CV 3/5] END criterion=entropy, min_samples_split=6;, score=0.989 total time=   1.0s\n",
      "[CV 4/5] END criterion=entropy, min_samples_split=6;, score=0.987 total time=   0.9s\n",
      "[CV 5/5] END criterion=entropy, min_samples_split=6;, score=0.989 total time=   0.8s\n",
      "40.1694860458374\n"
     ]
    }
   ],
   "source": [
    "best_models_DST = {}\n",
    "mean_train_time_DST = {}\n",
    "for train_set in train_sets:\n",
    "    print(train_set)\n",
    "    \n",
    "    start_time = time.time()\n",
    "    model_GS_DST.fit(train_sets[train_set], y_train)\n",
    "    end_time = time.time()\n",
    "    \n",
    "    best_models_DST[train_set] = model_GS_DST.best_estimator_\n",
    "    mean_train_time_DST[train_set] = end_time - start_time\n",
    "    print(mean_train_time_DST[train_set])"
   ]
  },
  {
   "cell_type": "code",
   "execution_count": 206,
   "id": "408c78bd",
   "metadata": {
    "scrolled": true
   },
   "outputs": [
    {
     "name": "stdout",
     "output_type": "stream",
     "text": [
      "normal: 0.9998290848715695; 0.9875804705748306\n",
      "PCA: 0.9996825861900577; 0.9819973793653507\n",
      "RFE: 1.0; 0.9901441349057141\n"
     ]
    }
   ],
   "source": [
    "train_score_DST = []\n",
    "test_score_DST = []\n",
    "for best_model in best_models_DST:\n",
    "    print(best_model, end = \": \")\n",
    "    \n",
    "    train_score = best_models_DST[best_model].score(train_sets[best_model], y_train)\n",
    "    print(train_score, end = \"; \")\n",
    "    train_score_DST.append(train_score)\n",
    "    \n",
    "    test_score = best_models_DST[best_model].score(test_sets[best_model], y_test)\n",
    "    print(test_score)\n",
    "    test_score_DST.append(test_score)"
   ]
  },
  {
   "cell_type": "code",
   "execution_count": 207,
   "id": "026e5761",
   "metadata": {},
   "outputs": [],
   "source": [
    "from matplotlib import pyplot as plt"
   ]
  },
  {
   "cell_type": "code",
   "execution_count": 229,
   "id": "1d59b429",
   "metadata": {},
   "outputs": [
    {
     "data": {
      "text/plain": [
       "Text(0.5, 1.0, 'Test sets accuracy')"
      ]
     },
     "execution_count": 229,
     "metadata": {},
     "output_type": "execute_result"
    },
    {
     "data": {
      "image/png": "[encoded data removed]",
      "text/plain": [
       "<Figure size 1000x500 with 2 Axes>"
      ]
     },
     "metadata": {},
     "output_type": "display_data"
    }
   ],
   "source": [
    "fig = plt.figure(figsize=(10, 5))\n",
    "\n",
    "fig.add_subplot(1, 2, 1)\n",
    "barlist1 = plt.bar(train_sets.keys(), train_score_DST)\n",
    "barlist1[0].set_color('r')\n",
    "barlist1[1].set_color('g')\n",
    "barlist1[2].set_color('b')\n",
    "plt.ylim([0.9, 1])\n",
    "plt.title('Training sets accuracy')\n",
    "\n",
    "fig.add_subplot(1, 2, 2)\n",
    "barlist2 = plt.bar(test_sets.keys(), test_score_DST)\n",
    "barlist2[0].set_color('r')\n",
    "barlist2[1].set_color('g')\n",
    "barlist2[2].set_color('b')\n",
    "plt.ylim([0.9, 1])\n",
    "plt.title('Test sets accuracy')"
   ]
  },
  {
   "cell_type": "code",
   "execution_count": null,
   "id": "c1848e06",
   "metadata": {},
   "outputs": [],
   "source": []
  },
  {
   "cell_type": "code",
   "execution_count": 196,
   "id": "c73a280d",
   "metadata": {},
   "outputs": [],
   "source": [
    "#random forest"
   ]
  },
  {
   "cell_type": "code",
   "execution_count": 197,
   "id": "4db81176",
   "metadata": {},
   "outputs": [],
   "source": [
    "from sklearn.ensemble import RandomForestClassifier"
   ]
  },
  {
   "cell_type": "code",
   "execution_count": 198,
   "id": "387ae32d",
   "metadata": {},
   "outputs": [],
   "source": [
    "params = {\n",
    "            'criterion' : ['gini', 'entropy'],\n",
    "            'n_estimators' : [10, 50, 100]\n",
    "         }"
   ]
  },
  {
   "cell_type": "code",
   "execution_count": 199,
   "id": "99728142",
   "metadata": {},
   "outputs": [],
   "source": [
    "model_GS_RFC = GridSearchCV(\n",
    "    RandomForestClassifier(),\n",
    "    params,\n",
    "    scoring = 'accuracy',\n",
    "    cv = 5,\n",
    "    verbose = 4\n",
    ")"
   ]
  },
  {
   "cell_type": "code",
   "execution_count": 200,
   "id": "f8e45bf1",
   "metadata": {},
   "outputs": [
    {
     "name": "stdout",
     "output_type": "stream",
     "text": [
      "normal\n",
      "Fitting 5 folds for each of 6 candidates, totalling 30 fits\n",
      "[CV 1/5] END ...criterion=gini, n_estimators=10;, score=0.997 total time=   1.6s\n",
      "[CV 2/5] END ...criterion=gini, n_estimators=10;, score=0.996 total time=   1.6s\n",
      "[CV 3/5] END ...criterion=gini, n_estimators=10;, score=0.997 total time=   1.7s\n",
      "[CV 4/5] END ...criterion=gini, n_estimators=10;, score=0.996 total time=   1.5s\n",
      "[CV 5/5] END ...criterion=gini, n_estimators=10;, score=0.997 total time=   1.6s\n",
      "[CV 1/5] END ...criterion=gini, n_estimators=50;, score=0.997 total time=   7.7s\n",
      "[CV 2/5] END ...criterion=gini, n_estimators=50;, score=0.998 total time=   7.6s\n",
      "[CV 3/5] END ...criterion=gini, n_estimators=50;, score=0.999 total time=   7.3s\n",
      "[CV 4/5] END ...criterion=gini, n_estimators=50;, score=0.998 total time=   8.2s\n",
      "[CV 5/5] END ...criterion=gini, n_estimators=50;, score=0.999 total time=  10.0s\n",
      "[CV 1/5] END ..criterion=gini, n_estimators=100;, score=0.998 total time=  21.6s\n",
      "[CV 2/5] END ..criterion=gini, n_estimators=100;, score=0.998 total time=  17.4s\n",
      "[CV 3/5] END ..criterion=gini, n_estimators=100;, score=0.999 total time=  21.8s\n",
      "[CV 4/5] END ..criterion=gini, n_estimators=100;, score=0.998 total time=  18.2s\n",
      "[CV 5/5] END ..criterion=gini, n_estimators=100;, score=0.998 total time=  17.2s\n",
      "[CV 1/5] END criterion=entropy, n_estimators=10;, score=0.997 total time=   3.9s\n",
      "[CV 2/5] END criterion=entropy, n_estimators=10;, score=0.997 total time=   3.4s\n",
      "[CV 3/5] END criterion=entropy, n_estimators=10;, score=0.997 total time=   3.3s\n",
      "[CV 4/5] END criterion=entropy, n_estimators=10;, score=0.998 total time=   3.1s\n",
      "[CV 5/5] END criterion=entropy, n_estimators=10;, score=0.998 total time=   3.5s\n",
      "[CV 1/5] END criterion=entropy, n_estimators=50;, score=0.998 total time=  16.0s\n",
      "[CV 2/5] END criterion=entropy, n_estimators=50;, score=0.998 total time=  19.7s\n",
      "[CV 3/5] END criterion=entropy, n_estimators=50;, score=0.999 total time=  16.6s\n",
      "[CV 4/5] END criterion=entropy, n_estimators=50;, score=0.998 total time=  14.9s\n",
      "[CV 5/5] END criterion=entropy, n_estimators=50;, score=0.999 total time=  14.1s\n",
      "[CV 1/5] END criterion=entropy, n_estimators=100;, score=0.998 total time=  29.0s\n",
      "[CV 2/5] END criterion=entropy, n_estimators=100;, score=0.998 total time=  29.6s\n",
      "[CV 3/5] END criterion=entropy, n_estimators=100;, score=0.999 total time=  28.7s\n",
      "[CV 4/5] END criterion=entropy, n_estimators=100;, score=0.998 total time=  29.3s\n",
      "[CV 5/5] END criterion=entropy, n_estimators=100;, score=0.999 total time=  29.5s\n",
      "428.1461625099182\n",
      "PCA\n",
      "Fitting 5 folds for each of 6 candidates, totalling 30 fits\n",
      "[CV 1/5] END ...criterion=gini, n_estimators=10;, score=0.984 total time=   1.5s\n",
      "[CV 2/5] END ...criterion=gini, n_estimators=10;, score=0.983 total time=   1.5s\n",
      "[CV 3/5] END ...criterion=gini, n_estimators=10;, score=0.990 total time=   1.3s\n",
      "[CV 4/5] END ...criterion=gini, n_estimators=10;, score=0.985 total time=   1.3s\n",
      "[CV 5/5] END ...criterion=gini, n_estimators=10;, score=0.982 total time=   1.2s\n",
      "[CV 1/5] END ...criterion=gini, n_estimators=50;, score=0.993 total time=   5.8s\n",
      "[CV 2/5] END ...criterion=gini, n_estimators=50;, score=0.992 total time=   6.3s\n",
      "[CV 3/5] END ...criterion=gini, n_estimators=50;, score=0.994 total time=   5.4s\n",
      "[CV 4/5] END ...criterion=gini, n_estimators=50;, score=0.990 total time=   6.2s\n",
      "[CV 5/5] END ...criterion=gini, n_estimators=50;, score=0.990 total time=   5.6s\n",
      "[CV 1/5] END ..criterion=gini, n_estimators=100;, score=0.993 total time=  11.5s\n",
      "[CV 2/5] END ..criterion=gini, n_estimators=100;, score=0.992 total time=  12.1s\n",
      "[CV 3/5] END ..criterion=gini, n_estimators=100;, score=0.995 total time=  12.7s\n",
      "[CV 4/5] END ..criterion=gini, n_estimators=100;, score=0.992 total time=  12.6s\n",
      "[CV 5/5] END ..criterion=gini, n_estimators=100;, score=0.992 total time=  11.8s\n",
      "[CV 1/5] END criterion=entropy, n_estimators=10;, score=0.988 total time=   2.5s\n",
      "[CV 2/5] END criterion=entropy, n_estimators=10;, score=0.986 total time=   2.5s\n",
      "[CV 3/5] END criterion=entropy, n_estimators=10;, score=0.988 total time=   2.7s\n",
      "[CV 4/5] END criterion=entropy, n_estimators=10;, score=0.987 total time=   2.5s\n",
      "[CV 5/5] END criterion=entropy, n_estimators=10;, score=0.988 total time=   2.2s\n",
      "[CV 1/5] END criterion=entropy, n_estimators=50;, score=0.995 total time=  12.1s\n",
      "[CV 2/5] END criterion=entropy, n_estimators=50;, score=0.993 total time=  12.1s\n",
      "[CV 3/5] END criterion=entropy, n_estimators=50;, score=0.995 total time=  12.1s\n",
      "[CV 4/5] END criterion=entropy, n_estimators=50;, score=0.994 total time=  12.7s\n",
      "[CV 5/5] END criterion=entropy, n_estimators=50;, score=0.993 total time=  12.1s\n",
      "[CV 1/5] END criterion=entropy, n_estimators=100;, score=0.994 total time=  24.3s\n",
      "[CV 2/5] END criterion=entropy, n_estimators=100;, score=0.993 total time=  24.6s\n",
      "[CV 3/5] END criterion=entropy, n_estimators=100;, score=0.995 total time=  22.9s\n",
      "[CV 4/5] END criterion=entropy, n_estimators=100;, score=0.995 total time=  25.1s\n",
      "[CV 5/5] END criterion=entropy, n_estimators=100;, score=0.993 total time=  23.8s\n",
      "325.23401498794556\n",
      "RFE\n",
      "Fitting 5 folds for each of 6 candidates, totalling 30 fits\n",
      "[CV 1/5] END ...criterion=gini, n_estimators=10;, score=0.994 total time=   0.8s\n",
      "[CV 2/5] END ...criterion=gini, n_estimators=10;, score=0.994 total time=   0.8s\n",
      "[CV 3/5] END ...criterion=gini, n_estimators=10;, score=0.992 total time=   0.7s\n",
      "[CV 4/5] END ...criterion=gini, n_estimators=10;, score=0.991 total time=   0.7s\n",
      "[CV 5/5] END ...criterion=gini, n_estimators=10;, score=0.994 total time=   0.7s\n",
      "[CV 1/5] END ...criterion=gini, n_estimators=50;, score=0.994 total time=   3.4s\n",
      "[CV 2/5] END ...criterion=gini, n_estimators=50;, score=0.995 total time=   4.0s\n",
      "[CV 3/5] END ...criterion=gini, n_estimators=50;, score=0.995 total time=   3.5s\n",
      "[CV 4/5] END ...criterion=gini, n_estimators=50;, score=0.993 total time=   3.2s\n",
      "[CV 5/5] END ...criterion=gini, n_estimators=50;, score=0.995 total time=   3.2s\n",
      "[CV 1/5] END ..criterion=gini, n_estimators=100;, score=0.994 total time=   6.0s\n",
      "[CV 2/5] END ..criterion=gini, n_estimators=100;, score=0.995 total time=   5.8s\n",
      "[CV 3/5] END ..criterion=gini, n_estimators=100;, score=0.995 total time=   6.1s\n",
      "[CV 4/5] END ..criterion=gini, n_estimators=100;, score=0.992 total time=   6.6s\n",
      "[CV 5/5] END ..criterion=gini, n_estimators=100;, score=0.994 total time=   6.2s\n",
      "[CV 1/5] END criterion=entropy, n_estimators=10;, score=0.993 total time=   1.0s\n",
      "[CV 2/5] END criterion=entropy, n_estimators=10;, score=0.992 total time=   1.0s\n",
      "[CV 3/5] END criterion=entropy, n_estimators=10;, score=0.993 total time=   0.9s\n",
      "[CV 4/5] END criterion=entropy, n_estimators=10;, score=0.991 total time=   1.0s\n",
      "[CV 5/5] END criterion=entropy, n_estimators=10;, score=0.993 total time=   0.9s\n",
      "[CV 1/5] END criterion=entropy, n_estimators=50;, score=0.994 total time=   4.9s\n",
      "[CV 2/5] END criterion=entropy, n_estimators=50;, score=0.995 total time=   5.4s\n",
      "[CV 3/5] END criterion=entropy, n_estimators=50;, score=0.995 total time=   5.3s\n",
      "[CV 4/5] END criterion=entropy, n_estimators=50;, score=0.993 total time=   5.1s\n",
      "[CV 5/5] END criterion=entropy, n_estimators=50;, score=0.993 total time=   5.9s\n",
      "[CV 1/5] END criterion=entropy, n_estimators=100;, score=0.994 total time=   9.7s\n",
      "[CV 2/5] END criterion=entropy, n_estimators=100;, score=0.996 total time=  10.4s\n",
      "[CV 3/5] END criterion=entropy, n_estimators=100;, score=0.995 total time=  10.4s\n",
      "[CV 4/5] END criterion=entropy, n_estimators=100;, score=0.993 total time=  10.6s\n",
      "[CV 5/5] END criterion=entropy, n_estimators=100;, score=0.994 total time=  10.4s\n",
      "148.25022530555725\n"
     ]
    }
   ],
   "source": [
    "best_models_RFC = {}\n",
    "mean_train_time_RFC = {}\n",
    "for train_set in train_sets:\n",
    "    print(train_set)\n",
    "    \n",
    "    start_time = time.time()\n",
    "    model_GS_RFC.fit(train_sets[train_set], y_train)\n",
    "    end_time = time.time()\n",
    "    \n",
    "    best_models_RFC[train_set] = model_GS_RFC.best_estimator_\n",
    "    mean_train_time_RFC[train_set] = end_time - start_time\n",
    "    print(mean_train_time_RFC[train_set])"
   ]
  },
  {
   "cell_type": "code",
   "execution_count": 209,
   "id": "a5b3eb96",
   "metadata": {},
   "outputs": [
    {
     "name": "stdout",
     "output_type": "stream",
     "text": [
      "normal: 1.0; 0.9986327123568621\n",
      "PCA: 1.0; 0.9951575229305532\n",
      "RFE: 1.0; 0.9951575229305532\n"
     ]
    }
   ],
   "source": [
    "train_score_RFC = []\n",
    "test_score_RFC = []\n",
    "for best_model in best_models_RFC:\n",
    "    print(best_model, end = \": \")\n",
    "    \n",
    "    train_score = best_models_RFC[best_model].score(train_sets[best_model], y_train)\n",
    "    print(train_score, end = \"; \")\n",
    "    train_score_RFC.append(train_score)\n",
    "    \n",
    "    test_score = best_models_RFC[best_model].score(test_sets[best_model], y_test)\n",
    "    print(test_score)\n",
    "    test_score_RFC.append(test_score)"
   ]
  },
  {
   "cell_type": "code",
   "execution_count": 230,
   "id": "b547a0b5",
   "metadata": {},
   "outputs": [
    {
     "data": {
      "text/plain": [
       "Text(0.5, 1.0, 'Test sets accuracy')"
      ]
     },
     "execution_count": 230,
     "metadata": {},
     "output_type": "execute_result"
    },
    {
     "data": {
      "image/png": "[encoded data removed]",
      "text/plain": [
       "<Figure size 1000x500 with 2 Axes>"
      ]
     },
     "metadata": {},
     "output_type": "display_data"
    }
   ],
   "source": [
    "fig = plt.figure(figsize=(10, 5))\n",
    "\n",
    "fig.add_subplot(1, 2, 1)\n",
    "barlist1 = plt.bar(train_sets.keys(), train_score_RFC)\n",
    "barlist1[0].set_color('r')\n",
    "barlist1[1].set_color('g')\n",
    "barlist1[2].set_color('b')\n",
    "plt.ylim([0.9, 1])\n",
    "plt.title('Training sets accuracy')\n",
    "\n",
    "fig.add_subplot(1, 2, 2)\n",
    "barlist2 = plt.bar(test_sets.keys(), test_score_RFC)\n",
    "barlist2[0].set_color('r')\n",
    "barlist2[1].set_color('g')\n",
    "barlist2[2].set_color('b')\n",
    "plt.ylim([0.9, 1])\n",
    "plt.title('Test sets accuracy')"
   ]
  },
  {
   "cell_type": "code",
   "execution_count": null,
   "id": "c124452c",
   "metadata": {},
   "outputs": [],
   "source": []
  },
  {
   "cell_type": "code",
   "execution_count": 214,
   "id": "1b14c3a3",
   "metadata": {},
   "outputs": [],
   "source": [
    "#KNN"
   ]
  },
  {
   "cell_type": "code",
   "execution_count": 215,
   "id": "4dbd321d",
   "metadata": {},
   "outputs": [],
   "source": [
    "from sklearn.neighbors import KNeighborsClassifier"
   ]
  },
  {
   "cell_type": "code",
   "execution_count": 216,
   "id": "c63e0c3b",
   "metadata": {},
   "outputs": [],
   "source": [
    "params = {\n",
    "            'n_neighbors' : [1, 2, 3, 4, 5, 6, 7, 8, 9, 10]\n",
    "         }"
   ]
  },
  {
   "cell_type": "code",
   "execution_count": 217,
   "id": "9a89d10e",
   "metadata": {},
   "outputs": [],
   "source": [
    "model_GS_KNN = GridSearchCV(\n",
    "    KNeighborsClassifier(),\n",
    "    params,\n",
    "    scoring = 'accuracy',\n",
    "    cv = 5,\n",
    "    verbose = 4\n",
    ")"
   ]
  },
  {
   "cell_type": "code",
   "execution_count": 218,
   "id": "7d478f31",
   "metadata": {},
   "outputs": [
    {
     "name": "stdout",
     "output_type": "stream",
     "text": [
      "normal\n",
      "Fitting 5 folds for each of 10 candidates, totalling 50 fits\n",
      "[CV 1/5] END .....................n_neighbors=1;, score=0.984 total time=   1.6s\n",
      "[CV 2/5] END .....................n_neighbors=1;, score=0.984 total time=   1.5s\n",
      "[CV 3/5] END .....................n_neighbors=1;, score=0.984 total time=   1.5s\n",
      "[CV 4/5] END .....................n_neighbors=1;, score=0.981 total time=   1.8s\n",
      "[CV 5/5] END .....................n_neighbors=1;, score=0.981 total time=   1.5s\n",
      "[CV 1/5] END .....................n_neighbors=2;, score=0.980 total time=   1.7s\n",
      "[CV 2/5] END .....................n_neighbors=2;, score=0.980 total time=   1.9s\n",
      "[CV 3/5] END .....................n_neighbors=2;, score=0.982 total time=   1.6s\n",
      "[CV 4/5] END .....................n_neighbors=2;, score=0.976 total time=   1.7s\n",
      "[CV 5/5] END .....................n_neighbors=2;, score=0.978 total time=   1.9s\n",
      "[CV 1/5] END .....................n_neighbors=3;, score=0.983 total time=   2.1s\n",
      "[CV 2/5] END .....................n_neighbors=3;, score=0.986 total time=   2.7s\n",
      "[CV 3/5] END .....................n_neighbors=3;, score=0.987 total time=   2.3s\n",
      "[CV 4/5] END .....................n_neighbors=3;, score=0.983 total time=   2.8s\n",
      "[CV 5/5] END .....................n_neighbors=3;, score=0.986 total time=   2.7s\n",
      "[CV 1/5] END .....................n_neighbors=4;, score=0.983 total time=   2.6s\n",
      "[CV 2/5] END .....................n_neighbors=4;, score=0.983 total time=   2.5s\n",
      "[CV 3/5] END .....................n_neighbors=4;, score=0.986 total time=   3.1s\n",
      "[CV 4/5] END .....................n_neighbors=4;, score=0.981 total time=   2.7s\n",
      "[CV 5/5] END .....................n_neighbors=4;, score=0.984 total time=   2.7s\n",
      "[CV 1/5] END .....................n_neighbors=5;, score=0.985 total time=   2.8s\n",
      "[CV 2/5] END .....................n_neighbors=5;, score=0.986 total time=   3.3s\n",
      "[CV 3/5] END .....................n_neighbors=5;, score=0.986 total time=   3.2s\n",
      "[CV 4/5] END .....................n_neighbors=5;, score=0.983 total time=   3.2s\n",
      "[CV 5/5] END .....................n_neighbors=5;, score=0.986 total time=   2.8s\n",
      "[CV 1/5] END .....................n_neighbors=6;, score=0.984 total time=   3.1s\n",
      "[CV 2/5] END .....................n_neighbors=6;, score=0.985 total time=   3.1s\n",
      "[CV 3/5] END .....................n_neighbors=6;, score=0.986 total time=   2.6s\n",
      "[CV 4/5] END .....................n_neighbors=6;, score=0.983 total time=   3.0s\n",
      "[CV 5/5] END .....................n_neighbors=6;, score=0.986 total time=   2.5s\n",
      "[CV 1/5] END .....................n_neighbors=7;, score=0.985 total time=   2.9s\n",
      "[CV 2/5] END .....................n_neighbors=7;, score=0.986 total time=   2.7s\n",
      "[CV 3/5] END .....................n_neighbors=7;, score=0.986 total time=   2.9s\n",
      "[CV 4/5] END .....................n_neighbors=7;, score=0.984 total time=   2.4s\n",
      "[CV 5/5] END .....................n_neighbors=7;, score=0.986 total time=   2.5s\n",
      "[CV 1/5] END .....................n_neighbors=8;, score=0.984 total time=   2.7s\n",
      "[CV 2/5] END .....................n_neighbors=8;, score=0.986 total time=   3.1s\n",
      "[CV 3/5] END .....................n_neighbors=8;, score=0.987 total time=   2.8s\n",
      "[CV 4/5] END .....................n_neighbors=8;, score=0.983 total time=   3.0s\n",
      "[CV 5/5] END .....................n_neighbors=8;, score=0.986 total time=   2.7s\n",
      "[CV 1/5] END .....................n_neighbors=9;, score=0.984 total time=   2.7s\n",
      "[CV 2/5] END .....................n_neighbors=9;, score=0.985 total time=   2.5s\n",
      "[CV 3/5] END .....................n_neighbors=9;, score=0.986 total time=   2.4s\n",
      "[CV 4/5] END .....................n_neighbors=9;, score=0.983 total time=   2.7s\n",
      "[CV 5/5] END .....................n_neighbors=9;, score=0.986 total time=   3.0s\n",
      "[CV 1/5] END ....................n_neighbors=10;, score=0.983 total time=   3.1s\n",
      "[CV 2/5] END ....................n_neighbors=10;, score=0.986 total time=   2.8s\n",
      "[CV 3/5] END ....................n_neighbors=10;, score=0.985 total time=   2.7s\n",
      "[CV 4/5] END ....................n_neighbors=10;, score=0.982 total time=   2.3s\n",
      "[CV 5/5] END ....................n_neighbors=10;, score=0.986 total time=   2.1s\n",
      "126.49113154411316\n",
      "PCA\n",
      "Fitting 5 folds for each of 10 candidates, totalling 50 fits\n",
      "[CV 1/5] END .....................n_neighbors=1;, score=0.990 total time=   1.0s\n",
      "[CV 2/5] END .....................n_neighbors=1;, score=0.989 total time=   1.4s\n",
      "[CV 3/5] END .....................n_neighbors=1;, score=0.989 total time=   1.2s\n",
      "[CV 4/5] END .....................n_neighbors=1;, score=0.987 total time=   1.1s\n",
      "[CV 5/5] END .....................n_neighbors=1;, score=0.987 total time=   1.1s\n",
      "[CV 1/5] END .....................n_neighbors=2;, score=0.986 total time=   1.3s\n",
      "[CV 2/5] END .....................n_neighbors=2;, score=0.986 total time=   1.2s\n",
      "[CV 3/5] END .....................n_neighbors=2;, score=0.986 total time=   1.3s\n",
      "[CV 4/5] END .....................n_neighbors=2;, score=0.984 total time=   1.2s\n",
      "[CV 5/5] END .....................n_neighbors=2;, score=0.984 total time=   1.4s\n",
      "[CV 1/5] END .....................n_neighbors=3;, score=0.989 total time=   1.3s\n",
      "[CV 2/5] END .....................n_neighbors=3;, score=0.991 total time=   1.3s\n",
      "[CV 3/5] END .....................n_neighbors=3;, score=0.989 total time=   1.3s\n",
      "[CV 4/5] END .....................n_neighbors=3;, score=0.988 total time=   1.2s\n",
      "[CV 5/5] END .....................n_neighbors=3;, score=0.989 total time=   1.3s\n",
      "[CV 1/5] END .....................n_neighbors=4;, score=0.989 total time=   1.2s\n",
      "[CV 2/5] END .....................n_neighbors=4;, score=0.987 total time=   1.2s\n",
      "[CV 3/5] END .....................n_neighbors=4;, score=0.987 total time=   1.2s\n",
      "[CV 4/5] END .....................n_neighbors=4;, score=0.986 total time=   1.2s\n",
      "[CV 5/5] END .....................n_neighbors=4;, score=0.988 total time=   1.3s\n",
      "[CV 1/5] END .....................n_neighbors=5;, score=0.990 total time=   1.2s\n",
      "[CV 2/5] END .....................n_neighbors=5;, score=0.990 total time=   1.3s\n",
      "[CV 3/5] END .....................n_neighbors=5;, score=0.989 total time=   1.3s\n",
      "[CV 4/5] END .....................n_neighbors=5;, score=0.988 total time=   1.4s\n",
      "[CV 5/5] END .....................n_neighbors=5;, score=0.990 total time=   1.6s\n",
      "[CV 1/5] END .....................n_neighbors=6;, score=0.988 total time=   1.5s\n",
      "[CV 2/5] END .....................n_neighbors=6;, score=0.988 total time=   1.7s\n",
      "[CV 3/5] END .....................n_neighbors=6;, score=0.988 total time=   1.6s\n",
      "[CV 4/5] END .....................n_neighbors=6;, score=0.988 total time=   1.7s\n",
      "[CV 5/5] END .....................n_neighbors=6;, score=0.989 total time=   1.7s\n",
      "[CV 1/5] END .....................n_neighbors=7;, score=0.989 total time=   1.4s\n",
      "[CV 2/5] END .....................n_neighbors=7;, score=0.989 total time=   1.5s\n",
      "[CV 3/5] END .....................n_neighbors=7;, score=0.989 total time=   1.5s\n",
      "[CV 4/5] END .....................n_neighbors=7;, score=0.988 total time=   1.2s\n",
      "[CV 5/5] END .....................n_neighbors=7;, score=0.989 total time=   1.3s\n",
      "[CV 1/5] END .....................n_neighbors=8;, score=0.988 total time=   1.3s\n",
      "[CV 2/5] END .....................n_neighbors=8;, score=0.989 total time=   1.4s\n",
      "[CV 3/5] END .....................n_neighbors=8;, score=0.989 total time=   1.3s\n",
      "[CV 4/5] END .....................n_neighbors=8;, score=0.987 total time=   1.3s\n",
      "[CV 5/5] END .....................n_neighbors=8;, score=0.988 total time=   1.3s\n",
      "[CV 1/5] END .....................n_neighbors=9;, score=0.988 total time=   1.5s\n",
      "[CV 2/5] END .....................n_neighbors=9;, score=0.989 total time=   1.5s\n",
      "[CV 3/5] END .....................n_neighbors=9;, score=0.988 total time=   1.6s\n",
      "[CV 4/5] END .....................n_neighbors=9;, score=0.988 total time=   1.6s\n",
      "[CV 5/5] END .....................n_neighbors=9;, score=0.988 total time=   1.6s\n",
      "[CV 1/5] END ....................n_neighbors=10;, score=0.987 total time=   1.4s\n",
      "[CV 2/5] END ....................n_neighbors=10;, score=0.988 total time=   1.5s\n",
      "[CV 3/5] END ....................n_neighbors=10;, score=0.988 total time=   1.6s\n",
      "[CV 4/5] END ....................n_neighbors=10;, score=0.985 total time=   1.2s\n",
      "[CV 5/5] END ....................n_neighbors=10;, score=0.989 total time=   1.3s\n",
      "68.21837162971497\n",
      "RFE\n",
      "Fitting 5 folds for each of 10 candidates, totalling 50 fits\n"
     ]
    },
    {
     "name": "stdout",
     "output_type": "stream",
     "text": [
      "[CV 1/5] END .....................n_neighbors=1;, score=0.998 total time=   0.5s\n",
      "[CV 2/5] END .....................n_neighbors=1;, score=0.998 total time=   0.5s\n",
      "[CV 3/5] END .....................n_neighbors=1;, score=0.997 total time=   0.6s\n",
      "[CV 4/5] END .....................n_neighbors=1;, score=0.998 total time=   0.5s\n",
      "[CV 5/5] END .....................n_neighbors=1;, score=0.998 total time=   0.5s\n",
      "[CV 1/5] END .....................n_neighbors=2;, score=0.998 total time=   0.6s\n",
      "[CV 2/5] END .....................n_neighbors=2;, score=0.998 total time=   0.6s\n",
      "[CV 3/5] END .....................n_neighbors=2;, score=0.997 total time=   0.6s\n",
      "[CV 4/5] END .....................n_neighbors=2;, score=0.998 total time=   0.5s\n",
      "[CV 5/5] END .....................n_neighbors=2;, score=0.998 total time=   0.5s\n",
      "[CV 1/5] END .....................n_neighbors=3;, score=0.997 total time=   0.5s\n",
      "[CV 2/5] END .....................n_neighbors=3;, score=0.998 total time=   0.6s\n",
      "[CV 3/5] END .....................n_neighbors=3;, score=0.997 total time=   0.6s\n",
      "[CV 4/5] END .....................n_neighbors=3;, score=0.997 total time=   0.5s\n",
      "[CV 5/5] END .....................n_neighbors=3;, score=0.999 total time=   0.5s\n",
      "[CV 1/5] END .....................n_neighbors=4;, score=0.997 total time=   0.6s\n",
      "[CV 2/5] END .....................n_neighbors=4;, score=0.997 total time=   0.5s\n",
      "[CV 3/5] END .....................n_neighbors=4;, score=0.997 total time=   0.6s\n",
      "[CV 4/5] END .....................n_neighbors=4;, score=0.997 total time=   0.6s\n",
      "[CV 5/5] END .....................n_neighbors=4;, score=0.999 total time=   0.5s\n",
      "[CV 1/5] END .....................n_neighbors=5;, score=0.997 total time=   0.6s\n",
      "[CV 2/5] END .....................n_neighbors=5;, score=0.998 total time=   0.5s\n",
      "[CV 3/5] END .....................n_neighbors=5;, score=0.997 total time=   0.6s\n",
      "[CV 4/5] END .....................n_neighbors=5;, score=0.997 total time=   0.6s\n",
      "[CV 5/5] END .....................n_neighbors=5;, score=0.998 total time=   0.5s\n",
      "[CV 1/5] END .....................n_neighbors=6;, score=0.997 total time=   0.6s\n",
      "[CV 2/5] END .....................n_neighbors=6;, score=0.997 total time=   0.6s\n",
      "[CV 3/5] END .....................n_neighbors=6;, score=0.997 total time=   0.6s\n",
      "[CV 4/5] END .....................n_neighbors=6;, score=0.996 total time=   0.5s\n",
      "[CV 5/5] END .....................n_neighbors=6;, score=0.999 total time=   0.6s\n",
      "[CV 1/5] END .....................n_neighbors=7;, score=0.997 total time=   0.6s\n",
      "[CV 2/5] END .....................n_neighbors=7;, score=0.997 total time=   0.6s\n",
      "[CV 3/5] END .....................n_neighbors=7;, score=0.997 total time=   0.6s\n",
      "[CV 4/5] END .....................n_neighbors=7;, score=0.997 total time=   0.5s\n",
      "[CV 5/5] END .....................n_neighbors=7;, score=0.999 total time=   0.5s\n",
      "[CV 1/5] END .....................n_neighbors=8;, score=0.997 total time=   0.6s\n",
      "[CV 2/5] END .....................n_neighbors=8;, score=0.997 total time=   0.5s\n",
      "[CV 3/5] END .....................n_neighbors=8;, score=0.997 total time=   0.5s\n",
      "[CV 4/5] END .....................n_neighbors=8;, score=0.997 total time=   0.6s\n",
      "[CV 5/5] END .....................n_neighbors=8;, score=0.999 total time=   0.5s\n",
      "[CV 1/5] END .....................n_neighbors=9;, score=0.997 total time=   0.5s\n",
      "[CV 2/5] END .....................n_neighbors=9;, score=0.997 total time=   0.5s\n",
      "[CV 3/5] END .....................n_neighbors=9;, score=0.996 total time=   0.6s\n",
      "[CV 4/5] END .....................n_neighbors=9;, score=0.997 total time=   0.5s\n",
      "[CV 5/5] END .....................n_neighbors=9;, score=0.998 total time=   0.5s\n",
      "[CV 1/5] END ....................n_neighbors=10;, score=0.996 total time=   0.6s\n",
      "[CV 2/5] END ....................n_neighbors=10;, score=0.997 total time=   0.5s\n",
      "[CV 3/5] END ....................n_neighbors=10;, score=0.996 total time=   0.5s\n",
      "[CV 4/5] END ....................n_neighbors=10;, score=0.996 total time=   0.5s\n",
      "[CV 5/5] END ....................n_neighbors=10;, score=0.998 total time=   0.6s\n",
      "27.593978881835938\n"
     ]
    }
   ],
   "source": [
    "best_models_KNN = {}\n",
    "mean_train_time_KNN = {}\n",
    "for train_set in train_sets_KNN:\n",
    "    print(train_set)\n",
    "    \n",
    "    start_time = time.time()\n",
    "    model_GS_KNN.fit(train_sets_KNN[train_set], y_train)\n",
    "    end_time = time.time()\n",
    "    \n",
    "    best_models_KNN[train_set] = model_GS_KNN.best_estimator_\n",
    "    mean_train_time_KNN[train_set] = end_time - start_time\n",
    "    print(mean_train_time_KNN[train_set])"
   ]
  },
  {
   "cell_type": "code",
   "execution_count": 222,
   "id": "9773799e",
   "metadata": {},
   "outputs": [
    {
     "name": "stdout",
     "output_type": "stream",
     "text": [
      "normal: 0.9921867369860338; 0.9885489659887199\n",
      "PCA: 0.9950434612755152; 0.9912265709565317\n",
      "RFE: 1.0; 0.9973223950321882\n"
     ]
    }
   ],
   "source": [
    "train_score_KNN = []\n",
    "test_score_KNN = []\n",
    "for best_model in best_models_KNN:\n",
    "    print(best_model, end = \": \")\n",
    "    \n",
    "    train_score = best_models_KNN[best_model].score(train_sets_KNN[best_model], y_train)\n",
    "    print(train_score, end = \"; \")\n",
    "    train_score_KNN.append(train_score)\n",
    "    \n",
    "    test_score = best_models_KNN[best_model].score(test_sets_KNN[best_model], y_test)\n",
    "    print(test_score)\n",
    "    test_score_KNN.append(test_score)"
   ]
  },
  {
   "cell_type": "code",
   "execution_count": 231,
   "id": "3ad9984c",
   "metadata": {},
   "outputs": [
    {
     "data": {
      "text/plain": [
       "Text(0.5, 1.0, 'Test sets accuracy')"
      ]
     },
     "execution_count": 231,
     "metadata": {},
     "output_type": "execute_result"
    },
    {
     "data": {
      "image/png": "[encoded data removed]",
      "text/plain": [
       "<Figure size 1000x500 with 2 Axes>"
      ]
     },
     "metadata": {},
     "output_type": "display_data"
    }
   ],
   "source": [
    "fig = plt.figure(figsize=(10, 5))\n",
    "\n",
    "fig.add_subplot(1, 2, 1)\n",
    "barlist1 = plt.bar(train_sets_KNN.keys(), train_score_KNN)\n",
    "barlist1[0].set_color('r')\n",
    "barlist1[1].set_color('g')\n",
    "barlist1[2].set_color('b')\n",
    "plt.ylim([0.9, 1])\n",
    "plt.title('Training sets accuracy')\n",
    "\n",
    "fig.add_subplot(1, 2, 2)\n",
    "barlist2 = plt.bar(test_sets_KNN.keys(), test_score_KNN)\n",
    "barlist2[0].set_color('r')\n",
    "barlist2[1].set_color('g')\n",
    "barlist2[2].set_color('b')\n",
    "plt.ylim([0.9, 1])\n",
    "plt.title('Test sets accuracy')"
   ]
  },
  {
   "cell_type": "code",
   "execution_count": null,
   "id": "0f63e081",
   "metadata": {},
   "outputs": [],
   "source": []
  },
  {
   "cell_type": "code",
   "execution_count": 232,
   "id": "98ee4e99",
   "metadata": {},
   "outputs": [],
   "source": [
    "#zakljucci"
   ]
  },
  {
   "cell_type": "code",
   "execution_count": 233,
   "id": "9d3bf6e3",
   "metadata": {},
   "outputs": [],
   "source": [
    "#poredjenje razlicitih modela na RFE skupovima"
   ]
  },
  {
   "cell_type": "code",
   "execution_count": 267,
   "id": "beb462f0",
   "metadata": {},
   "outputs": [],
   "source": [
    "best_models = [best_models_DST['RFE'], best_models_RFC['RFE'], best_models_KNN['RFE']]"
   ]
  },
  {
   "cell_type": "code",
   "execution_count": 268,
   "id": "12c03674",
   "metadata": {},
   "outputs": [],
   "source": [
    "best_test_sets = [test_sets['RFE'], test_sets['RFE'], test_sets_KNN['RFE']]"
   ]
  },
  {
   "cell_type": "code",
   "execution_count": 286,
   "id": "40326abc",
   "metadata": {},
   "outputs": [],
   "source": [
    "from sklearn.metrics import accuracy_score\n",
    "from sklearn.metrics import precision_score\n",
    "from sklearn.metrics import recall_score\n",
    "from sklearn.metrics import f1_score\n",
    "from sklearn.metrics import confusion_matrix"
   ]
  },
  {
   "cell_type": "code",
   "execution_count": 290,
   "id": "986c6922",
   "metadata": {},
   "outputs": [
    {
     "name": "stdout",
     "output_type": "stream",
     "text": [
      "0.9901441349057141\n",
      "0.9901480616999797\n",
      "0.9901441349057141\n",
      "0.9901455160634318\n",
      "[[1580    0    0    0    0   12    0    0    9    0    0]\n",
      " [   0 1570    1    0    0    0    0    0    4   21    0]\n",
      " [   0    0 1584    1   11    0    0    0    0    0    0]\n",
      " [   0    0    1 1593    3    0    0    0    0    0    0]\n",
      " [   0    1    6    2 1571    0    0   11    1    1    0]\n",
      " [  14    0    0    0    0 1567    0    0   13    0    0]\n",
      " [   0    0    0    0    0    0 1596    0    0    0    0]\n",
      " [   0    0    1    0   10    0    0 1583    1    0    0]\n",
      " [   2    7    2    0    0   17    0    2 1566    0    0]\n",
      " [   0   15    0    0    0    0    0    0    2 1574    0]\n",
      " [   0    2    0    0    0    0    0    0    0    0 1596]]\n",
      "0.9951575229305532\n",
      "0.995166058675996\n",
      "0.9951575229305532\n",
      "0.9951593750736506\n",
      "[[1590    0    0    0    0    5    0    0    4    0    0]\n",
      " [   0 1580    0    0    0    0    0    0    2   13    0]\n",
      " [   0    0 1593    0    6    0    0    0    0    0    0]\n",
      " [   0    0    0 1596    1    0    0    0    0    0    0]\n",
      " [   0    0    1    0 1579    0    0    2    0    0    0]\n",
      " [   6    0    1    0    0 1581    0    0    7    0    0]\n",
      " [   0    0    0    0    0    0 1596    0    0    0    0]\n",
      " [   0    0    0    0    9    0    0 1594    1    0    0]\n",
      " [   0    2    0    0    0   10    0    0 1581    1    0]\n",
      " [   0   11    0    0    0    0    0    0    1 1582    0]\n",
      " [   0    2    0    0    0    0    0    0    0    0 1596]]\n",
      "0.9973223950321882\n",
      "0.9973275737492132\n",
      "0.9973223950321882\n",
      "0.9973230299069958\n",
      "[[1592    0    0    0    0    3    0    0    1    0    0]\n",
      " [   0 1581    0    0    0    0    0    0    3    3    0]\n",
      " [   0    0 1595    0    0    0    0    0    0    0    0]\n",
      " [   0    0    0 1596    2    0    0    0    0    0    0]\n",
      " [   0    0    0    0 1590    0    0    2    0    0    0]\n",
      " [   4    0    0    0    0 1589    0    0    6    0    0]\n",
      " [   0    0    0    0    0    0 1596    0    0    0    0]\n",
      " [   0    3    0    0    3    1    0 1594    1    1    0]\n",
      " [   0    1    0    0    0    3    0    0 1585    0    0]\n",
      " [   0   10    0    0    0    0    0    0    0 1592    0]\n",
      " [   0    0    0    0    0    0    0    0    0    0 1596]]\n"
     ]
    }
   ],
   "source": [
    "best_test_scores = []\n",
    "for i in range(3):\n",
    "    y_test_predict = best_models[i].predict(best_test_sets[i])\n",
    "    \n",
    "    print(accuracy_score(y_test_predict, y_test))\n",
    "    print(precision_score(y_test_predict, y_test, average='weighted'))\n",
    "    print(recall_score(y_test_predict, y_test, average='weighted'))\n",
    "    print(f1_score(y_test_predict, y_test, average='weighted'))\n",
    "    print(confusion_matrix(y_test_predict, y_test))\n",
    "    \n",
    "    test_score = accuracy_score(y_test_predict, y_test)\n",
    "    best_test_scores.append(test_score)"
   ]
  },
  {
   "cell_type": "code",
   "execution_count": 293,
   "id": "0ea2e3a4",
   "metadata": {},
   "outputs": [
    {
     "data": {
      "text/html": [
       "<div>\n",
       "<style scoped>\n",
       "    .dataframe tbody tr th:only-of-type {\n",
       "        vertical-align: middle;\n",
       "    }\n",
       "\n",
       "    .dataframe tbody tr th {\n",
       "        vertical-align: top;\n",
       "    }\n",
       "\n",
       "    .dataframe thead th {\n",
       "        text-align: right;\n",
       "    }\n",
       "</style>\n",
       "<table border=\"1\" class=\"dataframe\">\n",
       "  <thead>\n",
       "    <tr style=\"text-align: right;\">\n",
       "      <th></th>\n",
       "      <th>7</th>\n",
       "      <th>8</th>\n",
       "      <th>9</th>\n",
       "      <th>10</th>\n",
       "      <th>15</th>\n",
       "      <th>21</th>\n",
       "      <th>24</th>\n",
       "    </tr>\n",
       "  </thead>\n",
       "  <tbody>\n",
       "    <tr>\n",
       "      <th>29940</th>\n",
       "      <td>0.008167</td>\n",
       "      <td>0.008389</td>\n",
       "      <td>-0.033093</td>\n",
       "      <td>-0.033089</td>\n",
       "      <td>0.002309</td>\n",
       "      <td>1.42030</td>\n",
       "      <td>-0.020883</td>\n",
       "    </tr>\n",
       "    <tr>\n",
       "      <th>16596</th>\n",
       "      <td>0.015230</td>\n",
       "      <td>0.015224</td>\n",
       "      <td>0.039853</td>\n",
       "      <td>0.039850</td>\n",
       "      <td>0.000821</td>\n",
       "      <td>1.77390</td>\n",
       "      <td>-0.005022</td>\n",
       "    </tr>\n",
       "    <tr>\n",
       "      <th>28015</th>\n",
       "      <td>0.016043</td>\n",
       "      <td>0.016257</td>\n",
       "      <td>-0.026672</td>\n",
       "      <td>-0.026700</td>\n",
       "      <td>0.001157</td>\n",
       "      <td>1.18660</td>\n",
       "      <td>0.004623</td>\n",
       "    </tr>\n",
       "    <tr>\n",
       "      <th>15264</th>\n",
       "      <td>0.000295</td>\n",
       "      <td>0.000057</td>\n",
       "      <td>0.015429</td>\n",
       "      <td>0.015463</td>\n",
       "      <td>0.002750</td>\n",
       "      <td>2.10320</td>\n",
       "      <td>0.009821</td>\n",
       "    </tr>\n",
       "    <tr>\n",
       "      <th>764</th>\n",
       "      <td>0.026757</td>\n",
       "      <td>0.026742</td>\n",
       "      <td>-0.031576</td>\n",
       "      <td>-0.031572</td>\n",
       "      <td>0.000796</td>\n",
       "      <td>1.75690</td>\n",
       "      <td>0.007468</td>\n",
       "    </tr>\n",
       "    <tr>\n",
       "      <th>...</th>\n",
       "      <td>...</td>\n",
       "      <td>...</td>\n",
       "      <td>...</td>\n",
       "      <td>...</td>\n",
       "      <td>...</td>\n",
       "      <td>...</td>\n",
       "      <td>...</td>\n",
       "    </tr>\n",
       "    <tr>\n",
       "      <th>49466</th>\n",
       "      <td>-0.029074</td>\n",
       "      <td>-0.029049</td>\n",
       "      <td>-0.012458</td>\n",
       "      <td>-0.012482</td>\n",
       "      <td>0.001230</td>\n",
       "      <td>1.57690</td>\n",
       "      <td>0.009742</td>\n",
       "    </tr>\n",
       "    <tr>\n",
       "      <th>26873</th>\n",
       "      <td>0.017091</td>\n",
       "      <td>0.017104</td>\n",
       "      <td>-0.024824</td>\n",
       "      <td>-0.024821</td>\n",
       "      <td>0.000768</td>\n",
       "      <td>0.96671</td>\n",
       "      <td>0.000336</td>\n",
       "    </tr>\n",
       "    <tr>\n",
       "      <th>411</th>\n",
       "      <td>0.023580</td>\n",
       "      <td>0.023580</td>\n",
       "      <td>-0.048029</td>\n",
       "      <td>-0.048031</td>\n",
       "      <td>0.000785</td>\n",
       "      <td>1.30810</td>\n",
       "      <td>0.018489</td>\n",
       "    </tr>\n",
       "    <tr>\n",
       "      <th>31646</th>\n",
       "      <td>0.010282</td>\n",
       "      <td>0.010203</td>\n",
       "      <td>-0.020155</td>\n",
       "      <td>-0.020198</td>\n",
       "      <td>0.002879</td>\n",
       "      <td>2.24420</td>\n",
       "      <td>-0.002194</td>\n",
       "    </tr>\n",
       "    <tr>\n",
       "      <th>21423</th>\n",
       "      <td>0.021779</td>\n",
       "      <td>0.021769</td>\n",
       "      <td>0.013757</td>\n",
       "      <td>0.013755</td>\n",
       "      <td>0.000763</td>\n",
       "      <td>0.89741</td>\n",
       "      <td>0.005657</td>\n",
       "    </tr>\n",
       "  </tbody>\n",
       "</table>\n",
       "<p>17553 rows × 7 columns</p>\n",
       "</div>"
      ],
      "text/plain": [
       "             7         8         9         10        15       21        24\n",
       "29940  0.008167  0.008389 -0.033093 -0.033089  0.002309  1.42030 -0.020883\n",
       "16596  0.015230  0.015224  0.039853  0.039850  0.000821  1.77390 -0.005022\n",
       "28015  0.016043  0.016257 -0.026672 -0.026700  0.001157  1.18660  0.004623\n",
       "15264  0.000295  0.000057  0.015429  0.015463  0.002750  2.10320  0.009821\n",
       "764    0.026757  0.026742 -0.031576 -0.031572  0.000796  1.75690  0.007468\n",
       "...         ...       ...       ...       ...       ...      ...       ...\n",
       "49466 -0.029074 -0.029049 -0.012458 -0.012482  0.001230  1.57690  0.009742\n",
       "26873  0.017091  0.017104 -0.024824 -0.024821  0.000768  0.96671  0.000336\n",
       "411    0.023580  0.023580 -0.048029 -0.048031  0.000785  1.30810  0.018489\n",
       "31646  0.010282  0.010203 -0.020155 -0.020198  0.002879  2.24420 -0.002194\n",
       "21423  0.021779  0.021769  0.013757  0.013755  0.000763  0.89741  0.005657\n",
       "\n",
       "[17553 rows x 7 columns]"
      ]
     },
     "execution_count": 293,
     "metadata": {},
     "output_type": "execute_result"
    }
   ],
   "source": [
    "best_test_sets[0]"
   ]
  },
  {
   "cell_type": "code",
   "execution_count": 308,
   "id": "ca8bed31",
   "metadata": {},
   "outputs": [
    {
     "data": {
      "text/plain": [
       "Text(0.5, 1.0, 'Best(RFE) test sets accuracy')"
      ]
     },
     "execution_count": 308,
     "metadata": {},
     "output_type": "execute_result"
    },
    {
     "data": {
      "image/png": "[encoded data removed]",
      "text/plain": [
       "<Figure size 1200x600 with 1 Axes>"
      ]
     },
     "metadata": {},
     "output_type": "display_data"
    }
   ],
   "source": [
    "fig = plt.figure(figsize=(12, 6))\n",
    "\n",
    "fig.add_subplot(1, 1, 1)\n",
    "barlist1 = plt.bar(['DTC', 'RFC', 'KNN'], best_test_scores)\n",
    "barlist1[0].set_color('brown')\n",
    "barlist1[1].set_color('gray')\n",
    "barlist1[2].set_color('black')\n",
    "plt.rcParams[\"figure.figsize\"] = (12,6)\n",
    "plt.ylim([0.95, 1])\n",
    "plt.title('Best(RFE) test sets accuracy')"
   ]
  },
  {
   "cell_type": "code",
   "execution_count": null,
   "id": "5cd6df90",
   "metadata": {},
   "outputs": [],
   "source": []
  }
 ],
 "metadata": {
  "kernelspec": {
   "display_name": "Python 3 (ipykernel)",
   "language": "python",
   "name": "python3"
  },
  "language_info": {
   "codemirror_mode": {
    "name": "ipython",
    "version": 3
   },
   "file_extension": ".py",
   "mimetype": "text/x-python",
   "name": "python",
   "nbconvert_exporter": "python",
   "pygments_lexer": "ipython3",
   "version": "3.10.6"
  }
 },
 "nbformat": 4,
 "nbformat_minor": 5
}
