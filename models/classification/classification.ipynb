{
 "cells": [
  {
   "cell_type": "code",
   "execution_count": 1,
   "id": "c0ddb6ea",
   "metadata": {},
   "outputs": [],
   "source": [
    "#ucitavamo osnovni, PCA i RFE trening skup"
   ]
  },
  {
   "cell_type": "code",
   "execution_count": 2,
   "id": "d15ce784",
   "metadata": {},
   "outputs": [],
   "source": [
    "%store -r train_sets"
   ]
  },
  {
   "cell_type": "code",
   "execution_count": 3,
   "id": "c0c5addd",
   "metadata": {},
   "outputs": [],
   "source": [
    "%store -r test_sets"
   ]
  },
  {
   "cell_type": "code",
   "execution_count": 4,
   "id": "6e0bbda6",
   "metadata": {},
   "outputs": [],
   "source": [
    "%store -r y_train"
   ]
  },
  {
   "cell_type": "code",
   "execution_count": 5,
   "id": "9ac00859",
   "metadata": {},
   "outputs": [],
   "source": [
    "%store -r y_test"
   ]
  },
  {
   "cell_type": "code",
   "execution_count": 6,
   "id": "d906a7c0",
   "metadata": {},
   "outputs": [],
   "source": [
    "%store -r train_sets_KNN"
   ]
  },
  {
   "cell_type": "code",
   "execution_count": 7,
   "id": "a76163ae",
   "metadata": {},
   "outputs": [],
   "source": [
    "%store -r test_sets_KNN"
   ]
  },
  {
   "cell_type": "code",
   "execution_count": 8,
   "id": "1661a885",
   "metadata": {},
   "outputs": [],
   "source": [
    "from sklearn.model_selection import GridSearchCV"
   ]
  },
  {
   "cell_type": "code",
   "execution_count": 9,
   "id": "e50fb19c",
   "metadata": {},
   "outputs": [],
   "source": [
    "import time"
   ]
  },
  {
   "cell_type": "code",
   "execution_count": 10,
   "id": "d4221152",
   "metadata": {},
   "outputs": [],
   "source": [
    "from matplotlib import pyplot as plt"
   ]
  },
  {
   "cell_type": "code",
   "execution_count": 11,
   "id": "7d04d734",
   "metadata": {},
   "outputs": [],
   "source": [
    "#desicion tree classifier"
   ]
  },
  {
   "cell_type": "code",
   "execution_count": 12,
   "id": "d71cf2ea",
   "metadata": {},
   "outputs": [],
   "source": [
    "from sklearn.tree import DecisionTreeClassifier"
   ]
  },
  {
   "cell_type": "code",
   "execution_count": 13,
   "id": "67185d11",
   "metadata": {},
   "outputs": [],
   "source": [
    "params = {\n",
    "            'criterion' : ['gini', 'entropy'],\n",
    "            'min_samples_split' : [2, 3, 4, 5, 6]\n",
    "         }"
   ]
  },
  {
   "cell_type": "code",
   "execution_count": 14,
   "id": "d4603c33",
   "metadata": {},
   "outputs": [],
   "source": [
    "model_GS_DST = GridSearchCV(\n",
    "    DecisionTreeClassifier(),\n",
    "    params,\n",
    "    scoring = 'accuracy',\n",
    "    cv = 5,\n",
    "    verbose = 4)"
   ]
  },
  {
   "cell_type": "code",
   "execution_count": 15,
   "id": "2019708f",
   "metadata": {},
   "outputs": [
    {
     "name": "stdout",
     "output_type": "stream",
     "text": [
      "Fitting 5 folds for each of 10 candidates, totalling 50 fits\n",
      "[CV 1/5] END criterion=gini, min_samples_split=2;, score=0.979 total time=   2.1s\n",
      "[CV 2/5] END criterion=gini, min_samples_split=2;, score=0.979 total time=   2.1s\n",
      "[CV 3/5] END criterion=gini, min_samples_split=2;, score=0.984 total time=   2.0s\n",
      "[CV 4/5] END criterion=gini, min_samples_split=2;, score=0.983 total time=   2.0s\n",
      "[CV 5/5] END criterion=gini, min_samples_split=2;, score=0.979 total time=   1.9s\n",
      "[CV 1/5] END criterion=gini, min_samples_split=3;, score=0.979 total time=   2.0s\n",
      "[CV 2/5] END criterion=gini, min_samples_split=3;, score=0.979 total time=   2.0s\n",
      "[CV 3/5] END criterion=gini, min_samples_split=3;, score=0.985 total time=   2.0s\n",
      "[CV 4/5] END criterion=gini, min_samples_split=3;, score=0.983 total time=   2.0s\n",
      "[CV 5/5] END criterion=gini, min_samples_split=3;, score=0.978 total time=   1.9s\n",
      "[CV 1/5] END criterion=gini, min_samples_split=4;, score=0.978 total time=   2.0s\n",
      "[CV 2/5] END criterion=gini, min_samples_split=4;, score=0.981 total time=   2.0s\n",
      "[CV 3/5] END criterion=gini, min_samples_split=4;, score=0.985 total time=   2.0s\n",
      "[CV 4/5] END criterion=gini, min_samples_split=4;, score=0.983 total time=   1.9s\n",
      "[CV 5/5] END criterion=gini, min_samples_split=4;, score=0.978 total time=   1.9s\n",
      "[CV 1/5] END criterion=gini, min_samples_split=5;, score=0.978 total time=   2.0s\n",
      "[CV 2/5] END criterion=gini, min_samples_split=5;, score=0.980 total time=   2.0s\n",
      "[CV 3/5] END criterion=gini, min_samples_split=5;, score=0.985 total time=   2.1s\n",
      "[CV 4/5] END criterion=gini, min_samples_split=5;, score=0.983 total time=   2.0s\n",
      "[CV 5/5] END criterion=gini, min_samples_split=5;, score=0.979 total time=   1.9s\n",
      "[CV 1/5] END criterion=gini, min_samples_split=6;, score=0.979 total time=   2.0s\n",
      "[CV 2/5] END criterion=gini, min_samples_split=6;, score=0.980 total time=   2.0s\n",
      "[CV 3/5] END criterion=gini, min_samples_split=6;, score=0.985 total time=   2.0s\n",
      "[CV 4/5] END criterion=gini, min_samples_split=6;, score=0.982 total time=   2.0s\n",
      "[CV 5/5] END criterion=gini, min_samples_split=6;, score=0.978 total time=   1.9s\n",
      "[CV 1/5] END criterion=entropy, min_samples_split=2;, score=0.984 total time=   2.5s\n",
      "[CV 2/5] END criterion=entropy, min_samples_split=2;, score=0.986 total time=   2.5s\n",
      "[CV 3/5] END criterion=entropy, min_samples_split=2;, score=0.987 total time=   2.6s\n",
      "[CV 4/5] END criterion=entropy, min_samples_split=2;, score=0.986 total time=   2.5s\n",
      "[CV 5/5] END criterion=entropy, min_samples_split=2;, score=0.986 total time=   2.5s\n",
      "[CV 1/5] END criterion=entropy, min_samples_split=3;, score=0.985 total time=   2.6s\n",
      "[CV 2/5] END criterion=entropy, min_samples_split=3;, score=0.987 total time=   2.6s\n",
      "[CV 3/5] END criterion=entropy, min_samples_split=3;, score=0.987 total time=   2.7s\n",
      "[CV 4/5] END criterion=entropy, min_samples_split=3;, score=0.985 total time=   3.0s\n",
      "[CV 5/5] END criterion=entropy, min_samples_split=3;, score=0.986 total time=   2.6s\n",
      "[CV 1/5] END criterion=entropy, min_samples_split=4;, score=0.984 total time=   2.7s\n",
      "[CV 2/5] END criterion=entropy, min_samples_split=4;, score=0.987 total time=   3.0s\n",
      "[CV 3/5] END criterion=entropy, min_samples_split=4;, score=0.987 total time=   3.0s\n",
      "[CV 4/5] END criterion=entropy, min_samples_split=4;, score=0.986 total time=   3.1s\n",
      "[CV 5/5] END criterion=entropy, min_samples_split=4;, score=0.985 total time=   2.8s\n",
      "[CV 1/5] END criterion=entropy, min_samples_split=5;, score=0.985 total time=   2.8s\n",
      "[CV 2/5] END criterion=entropy, min_samples_split=5;, score=0.987 total time=   3.1s\n",
      "[CV 3/5] END criterion=entropy, min_samples_split=5;, score=0.987 total time=   3.0s\n",
      "[CV 4/5] END criterion=entropy, min_samples_split=5;, score=0.986 total time=   3.2s\n",
      "[CV 5/5] END criterion=entropy, min_samples_split=5;, score=0.984 total time=   2.8s\n",
      "[CV 1/5] END criterion=entropy, min_samples_split=6;, score=0.983 total time=   2.6s\n",
      "[CV 2/5] END criterion=entropy, min_samples_split=6;, score=0.987 total time=   2.8s\n",
      "[CV 3/5] END criterion=entropy, min_samples_split=6;, score=0.988 total time=   2.8s\n",
      "[CV 4/5] END criterion=entropy, min_samples_split=6;, score=0.986 total time=   2.8s\n",
      "[CV 5/5] END criterion=entropy, min_samples_split=6;, score=0.985 total time=   2.7s\n",
      "121.81899857521057\n",
      "Fitting 5 folds for each of 10 candidates, totalling 50 fits\n",
      "[CV 1/5] END criterion=gini, min_samples_split=2;, score=0.958 total time=   0.7s\n",
      "[CV 2/5] END criterion=gini, min_samples_split=2;, score=0.956 total time=   0.6s\n",
      "[CV 3/5] END criterion=gini, min_samples_split=2;, score=0.960 total time=   0.6s\n",
      "[CV 4/5] END criterion=gini, min_samples_split=2;, score=0.960 total time=   0.6s\n",
      "[CV 5/5] END criterion=gini, min_samples_split=2;, score=0.959 total time=   0.6s\n",
      "[CV 1/5] END criterion=gini, min_samples_split=3;, score=0.955 total time=   0.6s\n",
      "[CV 2/5] END criterion=gini, min_samples_split=3;, score=0.955 total time=   0.6s\n",
      "[CV 3/5] END criterion=gini, min_samples_split=3;, score=0.962 total time=   0.6s\n",
      "[CV 4/5] END criterion=gini, min_samples_split=3;, score=0.961 total time=   0.6s\n",
      "[CV 5/5] END criterion=gini, min_samples_split=3;, score=0.959 total time=   0.6s\n",
      "[CV 1/5] END criterion=gini, min_samples_split=4;, score=0.956 total time=   0.6s\n",
      "[CV 2/5] END criterion=gini, min_samples_split=4;, score=0.953 total time=   0.6s\n",
      "[CV 3/5] END criterion=gini, min_samples_split=4;, score=0.961 total time=   0.6s\n",
      "[CV 4/5] END criterion=gini, min_samples_split=4;, score=0.961 total time=   0.6s\n",
      "[CV 5/5] END criterion=gini, min_samples_split=4;, score=0.958 total time=   0.6s\n",
      "[CV 1/5] END criterion=gini, min_samples_split=5;, score=0.957 total time=   0.6s\n",
      "[CV 2/5] END criterion=gini, min_samples_split=5;, score=0.953 total time=   0.6s\n",
      "[CV 3/5] END criterion=gini, min_samples_split=5;, score=0.961 total time=   0.6s\n",
      "[CV 4/5] END criterion=gini, min_samples_split=5;, score=0.961 total time=   0.6s\n",
      "[CV 5/5] END criterion=gini, min_samples_split=5;, score=0.960 total time=   0.6s\n",
      "[CV 1/5] END criterion=gini, min_samples_split=6;, score=0.956 total time=   0.6s\n",
      "[CV 2/5] END criterion=gini, min_samples_split=6;, score=0.954 total time=   0.7s\n",
      "[CV 3/5] END criterion=gini, min_samples_split=6;, score=0.961 total time=   0.7s\n",
      "[CV 4/5] END criterion=gini, min_samples_split=6;, score=0.961 total time=   0.6s\n",
      "[CV 5/5] END criterion=gini, min_samples_split=6;, score=0.960 total time=   0.7s\n",
      "[CV 1/5] END criterion=entropy, min_samples_split=2;, score=0.960 total time=   1.5s\n",
      "[CV 2/5] END criterion=entropy, min_samples_split=2;, score=0.966 total time=   1.4s\n",
      "[CV 3/5] END criterion=entropy, min_samples_split=2;, score=0.965 total time=   1.4s\n",
      "[CV 4/5] END criterion=entropy, min_samples_split=2;, score=0.963 total time=   1.2s\n",
      "[CV 5/5] END criterion=entropy, min_samples_split=2;, score=0.959 total time=   1.3s\n",
      "[CV 1/5] END criterion=entropy, min_samples_split=3;, score=0.958 total time=   1.2s\n",
      "[CV 2/5] END criterion=entropy, min_samples_split=3;, score=0.966 total time=   1.2s\n",
      "[CV 3/5] END criterion=entropy, min_samples_split=3;, score=0.966 total time=   1.3s\n",
      "[CV 4/5] END criterion=entropy, min_samples_split=3;, score=0.962 total time=   1.2s\n",
      "[CV 5/5] END criterion=entropy, min_samples_split=3;, score=0.960 total time=   1.3s\n",
      "[CV 1/5] END criterion=entropy, min_samples_split=4;, score=0.961 total time=   1.3s\n",
      "[CV 2/5] END criterion=entropy, min_samples_split=4;, score=0.967 total time=   1.2s\n",
      "[CV 3/5] END criterion=entropy, min_samples_split=4;, score=0.963 total time=   1.2s\n",
      "[CV 4/5] END criterion=entropy, min_samples_split=4;, score=0.962 total time=   1.3s\n",
      "[CV 5/5] END criterion=entropy, min_samples_split=4;, score=0.960 total time=   1.2s\n",
      "[CV 1/5] END criterion=entropy, min_samples_split=5;, score=0.959 total time=   1.3s\n",
      "[CV 2/5] END criterion=entropy, min_samples_split=5;, score=0.964 total time=   1.3s\n",
      "[CV 3/5] END criterion=entropy, min_samples_split=5;, score=0.965 total time=   1.3s\n",
      "[CV 4/5] END criterion=entropy, min_samples_split=5;, score=0.960 total time=   1.2s\n",
      "[CV 5/5] END criterion=entropy, min_samples_split=5;, score=0.961 total time=   1.3s\n",
      "[CV 1/5] END criterion=entropy, min_samples_split=6;, score=0.959 total time=   1.2s\n",
      "[CV 2/5] END criterion=entropy, min_samples_split=6;, score=0.966 total time=   1.2s\n"
     ]
    },
    {
     "name": "stdout",
     "output_type": "stream",
     "text": [
      "[CV 3/5] END criterion=entropy, min_samples_split=6;, score=0.964 total time=   1.3s\n",
      "[CV 4/5] END criterion=entropy, min_samples_split=6;, score=0.961 total time=   1.2s\n",
      "[CV 5/5] END criterion=entropy, min_samples_split=6;, score=0.960 total time=   1.3s\n",
      "49.099586963653564\n",
      "Fitting 5 folds for each of 10 candidates, totalling 50 fits\n",
      "[CV 1/5] END criterion=gini, min_samples_split=2;, score=0.987 total time=   0.2s\n",
      "[CV 2/5] END criterion=gini, min_samples_split=2;, score=0.992 total time=   0.2s\n",
      "[CV 3/5] END criterion=gini, min_samples_split=2;, score=0.992 total time=   0.2s\n",
      "[CV 4/5] END criterion=gini, min_samples_split=2;, score=0.992 total time=   0.2s\n",
      "[CV 5/5] END criterion=gini, min_samples_split=2;, score=0.988 total time=   0.2s\n",
      "[CV 1/5] END criterion=gini, min_samples_split=3;, score=0.987 total time=   0.2s\n",
      "[CV 2/5] END criterion=gini, min_samples_split=3;, score=0.994 total time=   0.2s\n",
      "[CV 3/5] END criterion=gini, min_samples_split=3;, score=0.991 total time=   0.2s\n",
      "[CV 4/5] END criterion=gini, min_samples_split=3;, score=0.991 total time=   0.2s\n",
      "[CV 5/5] END criterion=gini, min_samples_split=3;, score=0.989 total time=   0.2s\n",
      "[CV 1/5] END criterion=gini, min_samples_split=4;, score=0.988 total time=   0.3s\n",
      "[CV 2/5] END criterion=gini, min_samples_split=4;, score=0.993 total time=   0.2s\n",
      "[CV 3/5] END criterion=gini, min_samples_split=4;, score=0.992 total time=   0.2s\n",
      "[CV 4/5] END criterion=gini, min_samples_split=4;, score=0.991 total time=   0.2s\n",
      "[CV 5/5] END criterion=gini, min_samples_split=4;, score=0.987 total time=   0.2s\n",
      "[CV 1/5] END criterion=gini, min_samples_split=5;, score=0.988 total time=   0.2s\n",
      "[CV 2/5] END criterion=gini, min_samples_split=5;, score=0.993 total time=   0.2s\n",
      "[CV 3/5] END criterion=gini, min_samples_split=5;, score=0.991 total time=   0.2s\n",
      "[CV 4/5] END criterion=gini, min_samples_split=5;, score=0.991 total time=   0.2s\n",
      "[CV 5/5] END criterion=gini, min_samples_split=5;, score=0.988 total time=   0.2s\n",
      "[CV 1/5] END criterion=gini, min_samples_split=6;, score=0.987 total time=   0.3s\n",
      "[CV 2/5] END criterion=gini, min_samples_split=6;, score=0.993 total time=   0.2s\n",
      "[CV 3/5] END criterion=gini, min_samples_split=6;, score=0.991 total time=   0.2s\n",
      "[CV 4/5] END criterion=gini, min_samples_split=6;, score=0.991 total time=   0.3s\n",
      "[CV 5/5] END criterion=gini, min_samples_split=6;, score=0.988 total time=   0.3s\n",
      "[CV 1/5] END criterion=entropy, min_samples_split=2;, score=0.992 total time=   0.4s\n",
      "[CV 2/5] END criterion=entropy, min_samples_split=2;, score=0.992 total time=   0.3s\n",
      "[CV 3/5] END criterion=entropy, min_samples_split=2;, score=0.994 total time=   0.4s\n",
      "[CV 4/5] END criterion=entropy, min_samples_split=2;, score=0.992 total time=   0.4s\n",
      "[CV 5/5] END criterion=entropy, min_samples_split=2;, score=0.991 total time=   0.3s\n",
      "[CV 1/5] END criterion=entropy, min_samples_split=3;, score=0.991 total time=   0.3s\n",
      "[CV 2/5] END criterion=entropy, min_samples_split=3;, score=0.991 total time=   0.3s\n",
      "[CV 3/5] END criterion=entropy, min_samples_split=3;, score=0.994 total time=   0.4s\n",
      "[CV 4/5] END criterion=entropy, min_samples_split=3;, score=0.992 total time=   0.4s\n",
      "[CV 5/5] END criterion=entropy, min_samples_split=3;, score=0.992 total time=   0.3s\n",
      "[CV 1/5] END criterion=entropy, min_samples_split=4;, score=0.990 total time=   0.3s\n",
      "[CV 2/5] END criterion=entropy, min_samples_split=4;, score=0.992 total time=   0.3s\n",
      "[CV 3/5] END criterion=entropy, min_samples_split=4;, score=0.994 total time=   0.3s\n",
      "[CV 4/5] END criterion=entropy, min_samples_split=4;, score=0.993 total time=   0.3s\n",
      "[CV 5/5] END criterion=entropy, min_samples_split=4;, score=0.992 total time=   0.3s\n",
      "[CV 1/5] END criterion=entropy, min_samples_split=5;, score=0.991 total time=   0.4s\n",
      "[CV 2/5] END criterion=entropy, min_samples_split=5;, score=0.991 total time=   0.4s\n",
      "[CV 3/5] END criterion=entropy, min_samples_split=5;, score=0.993 total time=   0.4s\n",
      "[CV 4/5] END criterion=entropy, min_samples_split=5;, score=0.992 total time=   0.3s\n",
      "[CV 5/5] END criterion=entropy, min_samples_split=5;, score=0.992 total time=   0.3s\n",
      "[CV 1/5] END criterion=entropy, min_samples_split=6;, score=0.991 total time=   0.3s\n",
      "[CV 2/5] END criterion=entropy, min_samples_split=6;, score=0.991 total time=   0.4s\n",
      "[CV 3/5] END criterion=entropy, min_samples_split=6;, score=0.993 total time=   0.4s\n",
      "[CV 4/5] END criterion=entropy, min_samples_split=6;, score=0.991 total time=   0.4s\n",
      "[CV 5/5] END criterion=entropy, min_samples_split=6;, score=0.992 total time=   0.4s\n",
      "15.094525814056396\n"
     ]
    }
   ],
   "source": [
    "best_models_DST = {}\n",
    "train_time_DST = {}\n",
    "for train_set in train_sets:\n",
    "    start_time = time.time()\n",
    "    model_GS_DST.fit(train_sets[train_set], y_train)\n",
    "    end_time = time.time()\n",
    "    \n",
    "    best_models_DST[train_set] = model_GS_DST.best_estimator_\n",
    "    train_time_DST[train_set] = end_time - start_time\n",
    "    print(train_time_DST[train_set])"
   ]
  },
  {
   "cell_type": "code",
   "execution_count": 52,
   "id": "408c78bd",
   "metadata": {
    "scrolled": true
   },
   "outputs": [
    {
     "name": "stdout",
     "output_type": "stream",
     "text": [
      "basic: 0.9998778998778999; 0.9886039886039886\n",
      "{'ccp_alpha': 0.0, 'class_weight': None, 'criterion': 'entropy', 'max_depth': None, 'max_features': None, 'max_leaf_nodes': None, 'min_impurity_decrease': 0.0, 'min_samples_leaf': 1, 'min_samples_split': 3, 'min_weight_fraction_leaf': 0.0, 'random_state': None, 'splitter': 'best'}\n",
      "PCA: 1.0; 0.964957264957265\n",
      "{'ccp_alpha': 0.0, 'class_weight': None, 'criterion': 'entropy', 'max_depth': None, 'max_features': None, 'max_leaf_nodes': None, 'min_impurity_decrease': 0.0, 'min_samples_leaf': 1, 'min_samples_split': 2, 'min_weight_fraction_leaf': 0.0, 'random_state': None, 'splitter': 'best'}\n",
      "RFE: 1.0; 0.9924216524216524\n",
      "{'ccp_alpha': 0.0, 'class_weight': None, 'criterion': 'entropy', 'max_depth': None, 'max_features': None, 'max_leaf_nodes': None, 'min_impurity_decrease': 0.0, 'min_samples_leaf': 1, 'min_samples_split': 2, 'min_weight_fraction_leaf': 0.0, 'random_state': None, 'splitter': 'best'}\n"
     ]
    }
   ],
   "source": [
    "train_score_DST = []\n",
    "test_score_DST = []\n",
    "for best_model in best_models_DST:\n",
    "    print(best_model, end = \": \")\n",
    "    \n",
    "    train_score = best_models_DST[best_model].score(train_sets[best_model], y_train)\n",
    "    print(train_score, end = \"; \")\n",
    "    train_score_DST.append(train_score)\n",
    "    \n",
    "    test_score = best_models_DST[best_model].score(test_sets[best_model], y_test)\n",
    "    print(test_score)\n",
    "    test_score_DST.append(test_score)\n",
    "    print(best_models_DST[best_model].get_params())"
   ]
  },
  {
   "cell_type": "code",
   "execution_count": 42,
   "id": "1d59b429",
   "metadata": {},
   "outputs": [
    {
     "data": {
      "text/plain": [
       "Text(0.5, 1.0, 'Tacnost na test skupovima')"
      ]
     },
     "execution_count": 42,
     "metadata": {},
     "output_type": "execute_result"
    },
    {
     "data": {
      "image/png": "[encoded data removed]",
      "text/plain": [
       "<Figure size 1000x500 with 2 Axes>"
      ]
     },
     "metadata": {},
     "output_type": "display_data"
    }
   ],
   "source": [
    "fig = plt.figure(figsize=(10, 5))\n",
    "\n",
    "fig.add_subplot(1, 2, 1)\n",
    "barlist1 = plt.bar(train_sets.keys(), train_score_DST)\n",
    "barlist1[0].set_color('r')\n",
    "barlist1[1].set_color('g')\n",
    "barlist1[2].set_color('b')\n",
    "plt.ylim([0.9, 1])\n",
    "plt.title('Tacnost na trening skupovima')\n",
    "\n",
    "fig.add_subplot(1, 2, 2)\n",
    "barlist2 = plt.bar(test_sets.keys(), test_score_DST)\n",
    "barlist2[0].set_color('r')\n",
    "barlist2[1].set_color('g')\n",
    "barlist2[2].set_color('b')\n",
    "plt.ylim([0.9, 1])\n",
    "plt.title('Tacnost na test skupovima')"
   ]
  },
  {
   "cell_type": "code",
   "execution_count": null,
   "id": "c1848e06",
   "metadata": {},
   "outputs": [],
   "source": []
  },
  {
   "cell_type": "code",
   "execution_count": 18,
   "id": "c73a280d",
   "metadata": {},
   "outputs": [],
   "source": [
    "#random forest"
   ]
  },
  {
   "cell_type": "code",
   "execution_count": 19,
   "id": "4db81176",
   "metadata": {},
   "outputs": [],
   "source": [
    "from sklearn.ensemble import RandomForestClassifier"
   ]
  },
  {
   "cell_type": "code",
   "execution_count": 20,
   "id": "387ae32d",
   "metadata": {},
   "outputs": [],
   "source": [
    "params = {\n",
    "            'criterion' : ['gini', 'entropy'],\n",
    "            'n_estimators' : [10, 50, 100]\n",
    "         }"
   ]
  },
  {
   "cell_type": "code",
   "execution_count": 21,
   "id": "99728142",
   "metadata": {},
   "outputs": [],
   "source": [
    "model_GS_RFC = GridSearchCV(\n",
    "    RandomForestClassifier(),\n",
    "    params,\n",
    "    scoring = 'accuracy',\n",
    "    cv = 5,\n",
    "    verbose = 4\n",
    ")"
   ]
  },
  {
   "cell_type": "code",
   "execution_count": 22,
   "id": "f8e45bf1",
   "metadata": {
    "scrolled": true
   },
   "outputs": [
    {
     "name": "stdout",
     "output_type": "stream",
     "text": [
      "basic\n",
      "Fitting 5 folds for each of 6 candidates, totalling 30 fits\n",
      "[CV 1/5] END ...criterion=gini, n_estimators=10;, score=0.997 total time=   2.0s\n",
      "[CV 2/5] END ...criterion=gini, n_estimators=10;, score=0.997 total time=   2.0s\n",
      "[CV 3/5] END ...criterion=gini, n_estimators=10;, score=0.998 total time=   2.0s\n",
      "[CV 4/5] END ...criterion=gini, n_estimators=10;, score=0.997 total time=   1.7s\n",
      "[CV 5/5] END ...criterion=gini, n_estimators=10;, score=0.996 total time=   1.8s\n",
      "[CV 1/5] END ...criterion=gini, n_estimators=50;, score=0.997 total time=   7.4s\n",
      "[CV 2/5] END ...criterion=gini, n_estimators=50;, score=0.998 total time=   7.9s\n",
      "[CV 3/5] END ...criterion=gini, n_estimators=50;, score=0.999 total time=   7.9s\n",
      "[CV 4/5] END ...criterion=gini, n_estimators=50;, score=0.998 total time=   7.6s\n",
      "[CV 5/5] END ...criterion=gini, n_estimators=50;, score=0.999 total time=   7.8s\n",
      "[CV 1/5] END ..criterion=gini, n_estimators=100;, score=0.997 total time=  15.8s\n",
      "[CV 2/5] END ..criterion=gini, n_estimators=100;, score=0.998 total time=  15.8s\n",
      "[CV 3/5] END ..criterion=gini, n_estimators=100;, score=0.999 total time=  15.7s\n",
      "[CV 4/5] END ..criterion=gini, n_estimators=100;, score=0.999 total time=  15.7s\n",
      "[CV 5/5] END ..criterion=gini, n_estimators=100;, score=0.998 total time=  15.1s\n",
      "[CV 1/5] END criterion=entropy, n_estimators=10;, score=0.996 total time=   2.6s\n",
      "[CV 2/5] END criterion=entropy, n_estimators=10;, score=0.998 total time=   2.7s\n",
      "[CV 3/5] END criterion=entropy, n_estimators=10;, score=0.999 total time=   2.7s\n",
      "[CV 4/5] END criterion=entropy, n_estimators=10;, score=0.998 total time=   2.9s\n",
      "[CV 5/5] END criterion=entropy, n_estimators=10;, score=0.997 total time=   2.9s\n",
      "[CV 1/5] END criterion=entropy, n_estimators=50;, score=0.997 total time=  13.3s\n",
      "[CV 2/5] END criterion=entropy, n_estimators=50;, score=0.998 total time=  13.3s\n",
      "[CV 3/5] END criterion=entropy, n_estimators=50;, score=0.999 total time=  13.1s\n",
      "[CV 4/5] END criterion=entropy, n_estimators=50;, score=0.999 total time=  12.8s\n",
      "[CV 5/5] END criterion=entropy, n_estimators=50;, score=0.999 total time=  12.6s\n",
      "[CV 1/5] END criterion=entropy, n_estimators=100;, score=0.997 total time=  25.2s\n",
      "[CV 2/5] END criterion=entropy, n_estimators=100;, score=0.998 total time=  25.5s\n",
      "[CV 3/5] END criterion=entropy, n_estimators=100;, score=0.999 total time=  25.3s\n",
      "[CV 4/5] END criterion=entropy, n_estimators=100;, score=0.999 total time=  25.6s\n",
      "[CV 5/5] END criterion=entropy, n_estimators=100;, score=0.999 total time=  25.4s\n",
      "363.7972810268402\n",
      "PCA\n",
      "Fitting 5 folds for each of 6 candidates, totalling 30 fits\n",
      "[CV 1/5] END ...criterion=gini, n_estimators=10;, score=0.976 total time=   1.0s\n",
      "[CV 2/5] END ...criterion=gini, n_estimators=10;, score=0.976 total time=   1.1s\n",
      "[CV 3/5] END ...criterion=gini, n_estimators=10;, score=0.981 total time=   1.0s\n",
      "[CV 4/5] END ...criterion=gini, n_estimators=10;, score=0.981 total time=   1.1s\n",
      "[CV 5/5] END ...criterion=gini, n_estimators=10;, score=0.979 total time=   1.0s\n",
      "[CV 1/5] END ...criterion=gini, n_estimators=50;, score=0.989 total time=   5.1s\n",
      "[CV 2/5] END ...criterion=gini, n_estimators=50;, score=0.989 total time=   5.1s\n",
      "[CV 3/5] END ...criterion=gini, n_estimators=50;, score=0.991 total time=   5.4s\n",
      "[CV 4/5] END ...criterion=gini, n_estimators=50;, score=0.992 total time=   5.6s\n",
      "[CV 5/5] END ...criterion=gini, n_estimators=50;, score=0.990 total time=   5.4s\n",
      "[CV 1/5] END ..criterion=gini, n_estimators=100;, score=0.991 total time=  10.5s\n",
      "[CV 2/5] END ..criterion=gini, n_estimators=100;, score=0.991 total time=  10.6s\n",
      "[CV 3/5] END ..criterion=gini, n_estimators=100;, score=0.993 total time=  10.0s\n",
      "[CV 4/5] END ..criterion=gini, n_estimators=100;, score=0.991 total time=  10.2s\n",
      "[CV 5/5] END ..criterion=gini, n_estimators=100;, score=0.991 total time=  10.2s\n",
      "[CV 1/5] END criterion=entropy, n_estimators=10;, score=0.979 total time=   2.7s\n",
      "[CV 2/5] END criterion=entropy, n_estimators=10;, score=0.980 total time=   2.6s\n",
      "[CV 3/5] END criterion=entropy, n_estimators=10;, score=0.981 total time=   2.4s\n",
      "[CV 4/5] END criterion=entropy, n_estimators=10;, score=0.980 total time=   2.6s\n",
      "[CV 5/5] END criterion=entropy, n_estimators=10;, score=0.980 total time=   2.5s\n",
      "[CV 1/5] END criterion=entropy, n_estimators=50;, score=0.991 total time=  12.8s\n",
      "[CV 2/5] END criterion=entropy, n_estimators=50;, score=0.992 total time=  11.8s\n",
      "[CV 3/5] END criterion=entropy, n_estimators=50;, score=0.992 total time=  12.0s\n",
      "[CV 4/5] END criterion=entropy, n_estimators=50;, score=0.991 total time=  11.7s\n",
      "[CV 5/5] END criterion=entropy, n_estimators=50;, score=0.991 total time=  11.9s\n",
      "[CV 1/5] END criterion=entropy, n_estimators=100;, score=0.990 total time=  23.9s\n",
      "[CV 2/5] END criterion=entropy, n_estimators=100;, score=0.994 total time=  23.9s\n",
      "[CV 3/5] END criterion=entropy, n_estimators=100;, score=0.993 total time=  24.2s\n",
      "[CV 4/5] END criterion=entropy, n_estimators=100;, score=0.994 total time=  24.8s\n",
      "[CV 5/5] END criterion=entropy, n_estimators=100;, score=0.992 total time=  24.8s\n",
      "308.5135531425476\n",
      "RFE\n",
      "Fitting 5 folds for each of 6 candidates, totalling 30 fits\n",
      "[CV 1/5] END ...criterion=gini, n_estimators=10;, score=0.993 total time=   0.5s\n",
      "[CV 2/5] END ...criterion=gini, n_estimators=10;, score=0.995 total time=   0.5s\n",
      "[CV 3/5] END ...criterion=gini, n_estimators=10;, score=0.996 total time=   0.5s\n",
      "[CV 4/5] END ...criterion=gini, n_estimators=10;, score=0.994 total time=   0.6s\n",
      "[CV 5/5] END ...criterion=gini, n_estimators=10;, score=0.994 total time=   0.6s\n",
      "[CV 1/5] END ...criterion=gini, n_estimators=50;, score=0.994 total time=   2.7s\n",
      "[CV 2/5] END ...criterion=gini, n_estimators=50;, score=0.995 total time=   3.0s\n",
      "[CV 3/5] END ...criterion=gini, n_estimators=50;, score=0.997 total time=   3.2s\n",
      "[CV 4/5] END ...criterion=gini, n_estimators=50;, score=0.996 total time=   2.9s\n",
      "[CV 5/5] END ...criterion=gini, n_estimators=50;, score=0.995 total time=   2.9s\n",
      "[CV 1/5] END ..criterion=gini, n_estimators=100;, score=0.994 total time=   5.6s\n",
      "[CV 2/5] END ..criterion=gini, n_estimators=100;, score=0.995 total time=   5.4s\n",
      "[CV 3/5] END ..criterion=gini, n_estimators=100;, score=0.998 total time=   5.5s\n",
      "[CV 4/5] END ..criterion=gini, n_estimators=100;, score=0.996 total time=   5.7s\n",
      "[CV 5/5] END ..criterion=gini, n_estimators=100;, score=0.995 total time=   5.6s\n",
      "[CV 1/5] END criterion=entropy, n_estimators=10;, score=0.992 total time=   0.9s\n",
      "[CV 2/5] END criterion=entropy, n_estimators=10;, score=0.995 total time=   0.9s\n",
      "[CV 3/5] END criterion=entropy, n_estimators=10;, score=0.997 total time=   0.9s\n",
      "[CV 4/5] END criterion=entropy, n_estimators=10;, score=0.994 total time=   0.8s\n",
      "[CV 5/5] END criterion=entropy, n_estimators=10;, score=0.994 total time=   0.8s\n",
      "[CV 1/5] END criterion=entropy, n_estimators=50;, score=0.994 total time=   4.2s\n",
      "[CV 2/5] END criterion=entropy, n_estimators=50;, score=0.995 total time=   4.3s\n",
      "[CV 3/5] END criterion=entropy, n_estimators=50;, score=0.997 total time=   4.3s\n",
      "[CV 4/5] END criterion=entropy, n_estimators=50;, score=0.995 total time=   4.4s\n",
      "[CV 5/5] END criterion=entropy, n_estimators=50;, score=0.995 total time=   4.9s\n",
      "[CV 1/5] END criterion=entropy, n_estimators=100;, score=0.994 total time=   9.2s\n",
      "[CV 2/5] END criterion=entropy, n_estimators=100;, score=0.995 total time=   8.7s\n",
      "[CV 3/5] END criterion=entropy, n_estimators=100;, score=0.997 total time=   8.7s\n",
      "[CV 4/5] END criterion=entropy, n_estimators=100;, score=0.996 total time=   8.6s\n",
      "[CV 5/5] END criterion=entropy, n_estimators=100;, score=0.995 total time=   8.3s\n",
      "126.00792169570923\n"
     ]
    }
   ],
   "source": [
    "best_models_RFC = {}\n",
    "train_time_RFC = {}\n",
    "for train_set in train_sets:\n",
    "    print(train_set)\n",
    "    \n",
    "    start_time = time.time()\n",
    "    model_GS_RFC.fit(train_sets[train_set], y_train)\n",
    "    end_time = time.time()\n",
    "    \n",
    "    best_models_RFC[train_set] = model_GS_RFC.best_estimator_\n",
    "    train_time_RFC[train_set] = end_time - start_time\n",
    "    print(train_time_RFC[train_set])"
   ]
  },
  {
   "cell_type": "code",
   "execution_count": 50,
   "id": "a5b3eb96",
   "metadata": {},
   "outputs": [
    {
     "name": "stdout",
     "output_type": "stream",
     "text": [
      "basic: 1.0; 0.9988603988603989\n",
      "{'bootstrap': True, 'ccp_alpha': 0.0, 'class_weight': None, 'criterion': 'entropy', 'max_depth': None, 'max_features': 'sqrt', 'max_leaf_nodes': None, 'max_samples': None, 'min_impurity_decrease': 0.0, 'min_samples_leaf': 1, 'min_samples_split': 2, 'min_weight_fraction_leaf': 0.0, 'n_estimators': 100, 'n_jobs': None, 'oob_score': False, 'random_state': None, 'verbose': 0, 'warm_start': False}\n",
      "PCA: 1.0; 0.9926495726495727\n",
      "{'bootstrap': True, 'ccp_alpha': 0.0, 'class_weight': None, 'criterion': 'entropy', 'max_depth': None, 'max_features': 'sqrt', 'max_leaf_nodes': None, 'max_samples': None, 'min_impurity_decrease': 0.0, 'min_samples_leaf': 1, 'min_samples_split': 2, 'min_weight_fraction_leaf': 0.0, 'n_estimators': 100, 'n_jobs': None, 'oob_score': False, 'random_state': None, 'verbose': 0, 'warm_start': False}\n",
      "RFE: 1.0; 0.9957264957264957\n",
      "{'bootstrap': True, 'ccp_alpha': 0.0, 'class_weight': None, 'criterion': 'entropy', 'max_depth': None, 'max_features': 'sqrt', 'max_leaf_nodes': None, 'max_samples': None, 'min_impurity_decrease': 0.0, 'min_samples_leaf': 1, 'min_samples_split': 2, 'min_weight_fraction_leaf': 0.0, 'n_estimators': 100, 'n_jobs': None, 'oob_score': False, 'random_state': None, 'verbose': 0, 'warm_start': False}\n"
     ]
    }
   ],
   "source": [
    "train_score_RFC = []\n",
    "test_score_RFC = []\n",
    "for best_model in best_models_RFC:\n",
    "    print(best_model, end = \": \")\n",
    "    \n",
    "    train_score = best_models_RFC[best_model].score(train_sets[best_model], y_train)\n",
    "    print(train_score, end = \"; \")\n",
    "    train_score_RFC.append(train_score)\n",
    "    \n",
    "    test_score = best_models_RFC[best_model].score(test_sets[best_model], y_test)\n",
    "    print(test_score)\n",
    "    test_score_RFC.append(test_score)\n",
    "    print(best_models_RFC[best_model].get_params())"
   ]
  },
  {
   "cell_type": "code",
   "execution_count": 41,
   "id": "b547a0b5",
   "metadata": {},
   "outputs": [
    {
     "data": {
      "text/plain": [
       "Text(0.5, 1.0, 'Tacnost na test skupovima')"
      ]
     },
     "execution_count": 41,
     "metadata": {},
     "output_type": "execute_result"
    },
    {
     "data": {
      "image/png": "[encoded data removed]",
      "text/plain": [
       "<Figure size 1000x500 with 2 Axes>"
      ]
     },
     "metadata": {},
     "output_type": "display_data"
    }
   ],
   "source": [
    "fig = plt.figure(figsize=(10, 5))\n",
    "\n",
    "fig.add_subplot(1, 2, 1)\n",
    "barlist1 = plt.bar(train_sets.keys(), train_score_RFC)\n",
    "barlist1[0].set_color('r')\n",
    "barlist1[1].set_color('g')\n",
    "barlist1[2].set_color('b')\n",
    "plt.ylim([0.9, 1])\n",
    "plt.title('Tacnost na trening skupovima')\n",
    "\n",
    "fig.add_subplot(1, 2, 2)\n",
    "barlist2 = plt.bar(test_sets.keys(), test_score_RFC)\n",
    "barlist2[0].set_color('r')\n",
    "barlist2[1].set_color('g')\n",
    "barlist2[2].set_color('b')\n",
    "plt.ylim([0.9, 1])\n",
    "plt.title('Tacnost na test skupovima')"
   ]
  },
  {
   "cell_type": "code",
   "execution_count": null,
   "id": "c124452c",
   "metadata": {},
   "outputs": [],
   "source": []
  },
  {
   "cell_type": "code",
   "execution_count": 25,
   "id": "1b14c3a3",
   "metadata": {},
   "outputs": [],
   "source": [
    "#KNN"
   ]
  },
  {
   "cell_type": "code",
   "execution_count": 26,
   "id": "4dbd321d",
   "metadata": {},
   "outputs": [],
   "source": [
    "from sklearn.neighbors import KNeighborsClassifier"
   ]
  },
  {
   "cell_type": "code",
   "execution_count": 27,
   "id": "c63e0c3b",
   "metadata": {},
   "outputs": [],
   "source": [
    "params = {\n",
    "            'n_neighbors' : [1, 2, 3, 4, 5, 6, 7, 8, 9, 10]\n",
    "         }"
   ]
  },
  {
   "cell_type": "code",
   "execution_count": 28,
   "id": "9a89d10e",
   "metadata": {},
   "outputs": [],
   "source": [
    "model_GS_KNN = GridSearchCV(\n",
    "    KNeighborsClassifier(),\n",
    "    params,\n",
    "    scoring = 'accuracy',\n",
    "    cv = 5,\n",
    "    verbose = 4\n",
    ")"
   ]
  },
  {
   "cell_type": "code",
   "execution_count": 29,
   "id": "7d478f31",
   "metadata": {},
   "outputs": [
    {
     "name": "stdout",
     "output_type": "stream",
     "text": [
      "normal\n",
      "Fitting 5 folds for each of 10 candidates, totalling 50 fits\n",
      "[CV 1/5] END .....................n_neighbors=1;, score=0.981 total time=   1.6s\n",
      "[CV 2/5] END .....................n_neighbors=1;, score=0.980 total time=   1.4s\n",
      "[CV 3/5] END .....................n_neighbors=1;, score=0.983 total time=   1.5s\n",
      "[CV 4/5] END .....................n_neighbors=1;, score=0.980 total time=   1.9s\n",
      "[CV 5/5] END .....................n_neighbors=1;, score=0.980 total time=   1.6s\n",
      "[CV 1/5] END .....................n_neighbors=2;, score=0.978 total time=   2.4s\n",
      "[CV 2/5] END .....................n_neighbors=2;, score=0.975 total time=   2.9s\n",
      "[CV 3/5] END .....................n_neighbors=2;, score=0.979 total time=   2.8s\n",
      "[CV 4/5] END .....................n_neighbors=2;, score=0.975 total time=   2.9s\n",
      "[CV 5/5] END .....................n_neighbors=2;, score=0.975 total time=   3.2s\n",
      "[CV 1/5] END .....................n_neighbors=3;, score=0.985 total time=   2.6s\n",
      "[CV 2/5] END .....................n_neighbors=3;, score=0.980 total time=   2.7s\n",
      "[CV 3/5] END .....................n_neighbors=3;, score=0.981 total time=   2.7s\n",
      "[CV 4/5] END .....................n_neighbors=3;, score=0.982 total time=   3.0s\n",
      "[CV 5/5] END .....................n_neighbors=3;, score=0.982 total time=   2.6s\n",
      "[CV 1/5] END .....................n_neighbors=4;, score=0.982 total time=   2.6s\n",
      "[CV 2/5] END .....................n_neighbors=4;, score=0.978 total time=   2.4s\n",
      "[CV 3/5] END .....................n_neighbors=4;, score=0.982 total time=   2.3s\n",
      "[CV 4/5] END .....................n_neighbors=4;, score=0.981 total time=   2.3s\n",
      "[CV 5/5] END .....................n_neighbors=4;, score=0.979 total time=   2.3s\n",
      "[CV 1/5] END .....................n_neighbors=5;, score=0.984 total time=   2.6s\n",
      "[CV 2/5] END .....................n_neighbors=5;, score=0.982 total time=   2.4s\n",
      "[CV 3/5] END .....................n_neighbors=5;, score=0.984 total time=   2.7s\n",
      "[CV 4/5] END .....................n_neighbors=5;, score=0.984 total time=   2.7s\n",
      "[CV 5/5] END .....................n_neighbors=5;, score=0.982 total time=   1.4s\n",
      "[CV 1/5] END .....................n_neighbors=6;, score=0.985 total time=   1.6s\n",
      "[CV 2/5] END .....................n_neighbors=6;, score=0.981 total time=   1.4s\n",
      "[CV 3/5] END .....................n_neighbors=6;, score=0.983 total time=   1.7s\n",
      "[CV 4/5] END .....................n_neighbors=6;, score=0.982 total time=   1.6s\n",
      "[CV 5/5] END .....................n_neighbors=6;, score=0.981 total time=   2.1s\n",
      "[CV 1/5] END .....................n_neighbors=7;, score=0.985 total time=   2.1s\n",
      "[CV 2/5] END .....................n_neighbors=7;, score=0.982 total time=   1.7s\n",
      "[CV 3/5] END .....................n_neighbors=7;, score=0.984 total time=   1.7s\n",
      "[CV 4/5] END .....................n_neighbors=7;, score=0.984 total time=   2.2s\n",
      "[CV 5/5] END .....................n_neighbors=7;, score=0.983 total time=   2.3s\n",
      "[CV 1/5] END .....................n_neighbors=8;, score=0.984 total time=   1.8s\n",
      "[CV 2/5] END .....................n_neighbors=8;, score=0.982 total time=   1.9s\n",
      "[CV 3/5] END .....................n_neighbors=8;, score=0.983 total time=   2.1s\n",
      "[CV 4/5] END .....................n_neighbors=8;, score=0.982 total time=   2.2s\n",
      "[CV 5/5] END .....................n_neighbors=8;, score=0.981 total time=   2.8s\n",
      "[CV 1/5] END .....................n_neighbors=9;, score=0.984 total time=   2.6s\n",
      "[CV 2/5] END .....................n_neighbors=9;, score=0.982 total time=   3.3s\n",
      "[CV 3/5] END .....................n_neighbors=9;, score=0.983 total time=   3.1s\n",
      "[CV 4/5] END .....................n_neighbors=9;, score=0.984 total time=   3.2s\n",
      "[CV 5/5] END .....................n_neighbors=9;, score=0.982 total time=   2.8s\n",
      "[CV 1/5] END ....................n_neighbors=10;, score=0.985 total time=   2.8s\n",
      "[CV 2/5] END ....................n_neighbors=10;, score=0.982 total time=   1.4s\n",
      "[CV 3/5] END ....................n_neighbors=10;, score=0.983 total time=   1.5s\n",
      "[CV 4/5] END ....................n_neighbors=10;, score=0.983 total time=   1.4s\n",
      "[CV 5/5] END ....................n_neighbors=10;, score=0.981 total time=   1.5s\n",
      "112.17488765716553\n",
      "PCA\n",
      "Fitting 5 folds for each of 10 candidates, totalling 50 fits\n",
      "[CV 1/5] END .....................n_neighbors=1;, score=0.986 total time=   0.7s\n",
      "[CV 2/5] END .....................n_neighbors=1;, score=0.985 total time=   0.8s\n",
      "[CV 3/5] END .....................n_neighbors=1;, score=0.986 total time=   0.8s\n",
      "[CV 4/5] END .....................n_neighbors=1;, score=0.985 total time=   0.8s\n",
      "[CV 5/5] END .....................n_neighbors=1;, score=0.985 total time=   0.8s\n",
      "[CV 1/5] END .....................n_neighbors=2;, score=0.982 total time=   0.8s\n",
      "[CV 2/5] END .....................n_neighbors=2;, score=0.982 total time=   0.8s\n",
      "[CV 3/5] END .....................n_neighbors=2;, score=0.984 total time=   0.9s\n",
      "[CV 4/5] END .....................n_neighbors=2;, score=0.980 total time=   1.0s\n",
      "[CV 5/5] END .....................n_neighbors=2;, score=0.981 total time=   1.0s\n",
      "[CV 1/5] END .....................n_neighbors=3;, score=0.987 total time=   1.0s\n",
      "[CV 2/5] END .....................n_neighbors=3;, score=0.985 total time=   0.9s\n",
      "[CV 3/5] END .....................n_neighbors=3;, score=0.987 total time=   0.9s\n",
      "[CV 4/5] END .....................n_neighbors=3;, score=0.987 total time=   0.9s\n",
      "[CV 5/5] END .....................n_neighbors=3;, score=0.986 total time=   0.8s\n",
      "[CV 1/5] END .....................n_neighbors=4;, score=0.985 total time=   0.8s\n",
      "[CV 2/5] END .....................n_neighbors=4;, score=0.984 total time=   0.9s\n",
      "[CV 3/5] END .....................n_neighbors=4;, score=0.986 total time=   0.8s\n",
      "[CV 4/5] END .....................n_neighbors=4;, score=0.984 total time=   0.8s\n",
      "[CV 5/5] END .....................n_neighbors=4;, score=0.984 total time=   0.9s\n",
      "[CV 1/5] END .....................n_neighbors=5;, score=0.987 total time=   0.9s\n",
      "[CV 2/5] END .....................n_neighbors=5;, score=0.986 total time=   0.9s\n",
      "[CV 3/5] END .....................n_neighbors=5;, score=0.988 total time=   0.9s\n",
      "[CV 4/5] END .....................n_neighbors=5;, score=0.986 total time=   0.9s\n",
      "[CV 5/5] END .....................n_neighbors=5;, score=0.985 total time=   1.1s\n",
      "[CV 1/5] END .....................n_neighbors=6;, score=0.987 total time=   1.1s\n",
      "[CV 2/5] END .....................n_neighbors=6;, score=0.985 total time=   0.9s\n",
      "[CV 3/5] END .....................n_neighbors=6;, score=0.987 total time=   1.0s\n",
      "[CV 4/5] END .....................n_neighbors=6;, score=0.986 total time=   0.9s\n",
      "[CV 5/5] END .....................n_neighbors=6;, score=0.984 total time=   0.9s\n",
      "[CV 1/5] END .....................n_neighbors=7;, score=0.987 total time=   0.9s\n",
      "[CV 2/5] END .....................n_neighbors=7;, score=0.986 total time=   1.1s\n",
      "[CV 3/5] END .....................n_neighbors=7;, score=0.987 total time=   1.0s\n",
      "[CV 4/5] END .....................n_neighbors=7;, score=0.986 total time=   0.9s\n",
      "[CV 5/5] END .....................n_neighbors=7;, score=0.985 total time=   0.9s\n",
      "[CV 1/5] END .....................n_neighbors=8;, score=0.988 total time=   0.9s\n",
      "[CV 2/5] END .....................n_neighbors=8;, score=0.985 total time=   1.0s\n",
      "[CV 3/5] END .....................n_neighbors=8;, score=0.987 total time=   0.9s\n",
      "[CV 4/5] END .....................n_neighbors=8;, score=0.985 total time=   1.0s\n",
      "[CV 5/5] END .....................n_neighbors=8;, score=0.985 total time=   0.9s\n",
      "[CV 1/5] END .....................n_neighbors=9;, score=0.987 total time=   0.9s\n",
      "[CV 2/5] END .....................n_neighbors=9;, score=0.986 total time=   0.9s\n",
      "[CV 3/5] END .....................n_neighbors=9;, score=0.987 total time=   1.1s\n",
      "[CV 4/5] END .....................n_neighbors=9;, score=0.987 total time=   1.0s\n",
      "[CV 5/5] END .....................n_neighbors=9;, score=0.985 total time=   0.9s\n",
      "[CV 1/5] END ....................n_neighbors=10;, score=0.986 total time=   1.0s\n",
      "[CV 2/5] END ....................n_neighbors=10;, score=0.985 total time=   1.0s\n",
      "[CV 3/5] END ....................n_neighbors=10;, score=0.987 total time=   1.1s\n",
      "[CV 4/5] END ....................n_neighbors=10;, score=0.984 total time=   1.1s\n",
      "[CV 5/5] END ....................n_neighbors=10;, score=0.986 total time=   1.2s\n",
      "46.89845681190491\n",
      "RFE\n",
      "Fitting 5 folds for each of 10 candidates, totalling 50 fits\n"
     ]
    },
    {
     "name": "stdout",
     "output_type": "stream",
     "text": [
      "[CV 1/5] END .....................n_neighbors=1;, score=0.998 total time=   0.5s\n",
      "[CV 2/5] END .....................n_neighbors=1;, score=0.998 total time=   0.4s\n",
      "[CV 3/5] END .....................n_neighbors=1;, score=0.998 total time=   0.5s\n",
      "[CV 4/5] END .....................n_neighbors=1;, score=0.998 total time=   0.4s\n",
      "[CV 5/5] END .....................n_neighbors=1;, score=0.998 total time=   0.5s\n",
      "[CV 1/5] END .....................n_neighbors=2;, score=0.997 total time=   0.4s\n",
      "[CV 2/5] END .....................n_neighbors=2;, score=0.997 total time=   0.5s\n",
      "[CV 3/5] END .....................n_neighbors=2;, score=0.998 total time=   0.5s\n",
      "[CV 4/5] END .....................n_neighbors=2;, score=0.997 total time=   0.5s\n",
      "[CV 5/5] END .....................n_neighbors=2;, score=0.997 total time=   0.5s\n",
      "[CV 1/5] END .....................n_neighbors=3;, score=0.997 total time=   0.4s\n",
      "[CV 2/5] END .....................n_neighbors=3;, score=0.998 total time=   0.4s\n",
      "[CV 3/5] END .....................n_neighbors=3;, score=0.998 total time=   0.4s\n",
      "[CV 4/5] END .....................n_neighbors=3;, score=0.998 total time=   0.4s\n",
      "[CV 5/5] END .....................n_neighbors=3;, score=0.998 total time=   0.4s\n",
      "[CV 1/5] END .....................n_neighbors=4;, score=0.996 total time=   0.4s\n",
      "[CV 2/5] END .....................n_neighbors=4;, score=0.998 total time=   0.4s\n",
      "[CV 3/5] END .....................n_neighbors=4;, score=0.998 total time=   0.4s\n",
      "[CV 4/5] END .....................n_neighbors=4;, score=0.998 total time=   0.4s\n",
      "[CV 5/5] END .....................n_neighbors=4;, score=0.997 total time=   0.5s\n",
      "[CV 1/5] END .....................n_neighbors=5;, score=0.997 total time=   0.5s\n",
      "[CV 2/5] END .....................n_neighbors=5;, score=0.998 total time=   0.4s\n",
      "[CV 3/5] END .....................n_neighbors=5;, score=0.998 total time=   0.4s\n",
      "[CV 4/5] END .....................n_neighbors=5;, score=0.997 total time=   0.5s\n",
      "[CV 5/5] END .....................n_neighbors=5;, score=0.997 total time=   0.4s\n",
      "[CV 1/5] END .....................n_neighbors=6;, score=0.996 total time=   0.4s\n",
      "[CV 2/5] END .....................n_neighbors=6;, score=0.998 total time=   0.4s\n",
      "[CV 3/5] END .....................n_neighbors=6;, score=0.998 total time=   0.4s\n",
      "[CV 4/5] END .....................n_neighbors=6;, score=0.997 total time=   0.4s\n",
      "[CV 5/5] END .....................n_neighbors=6;, score=0.997 total time=   0.4s\n",
      "[CV 1/5] END .....................n_neighbors=7;, score=0.996 total time=   0.5s\n",
      "[CV 2/5] END .....................n_neighbors=7;, score=0.998 total time=   0.5s\n",
      "[CV 3/5] END .....................n_neighbors=7;, score=0.998 total time=   0.4s\n",
      "[CV 4/5] END .....................n_neighbors=7;, score=0.997 total time=   0.4s\n",
      "[CV 5/5] END .....................n_neighbors=7;, score=0.997 total time=   0.5s\n",
      "[CV 1/5] END .....................n_neighbors=8;, score=0.996 total time=   0.4s\n",
      "[CV 2/5] END .....................n_neighbors=8;, score=0.998 total time=   0.4s\n",
      "[CV 3/5] END .....................n_neighbors=8;, score=0.998 total time=   0.4s\n",
      "[CV 4/5] END .....................n_neighbors=8;, score=0.997 total time=   0.5s\n",
      "[CV 5/5] END .....................n_neighbors=8;, score=0.996 total time=   0.4s\n",
      "[CV 1/5] END .....................n_neighbors=9;, score=0.996 total time=   0.4s\n",
      "[CV 2/5] END .....................n_neighbors=9;, score=0.998 total time=   0.5s\n",
      "[CV 3/5] END .....................n_neighbors=9;, score=0.997 total time=   0.5s\n",
      "[CV 4/5] END .....................n_neighbors=9;, score=0.997 total time=   0.5s\n",
      "[CV 5/5] END .....................n_neighbors=9;, score=0.997 total time=   0.4s\n",
      "[CV 1/5] END ....................n_neighbors=10;, score=0.996 total time=   0.4s\n",
      "[CV 2/5] END ....................n_neighbors=10;, score=0.998 total time=   0.4s\n",
      "[CV 3/5] END ....................n_neighbors=10;, score=0.997 total time=   0.4s\n",
      "[CV 4/5] END ....................n_neighbors=10;, score=0.997 total time=   0.4s\n",
      "[CV 5/5] END ....................n_neighbors=10;, score=0.997 total time=   0.4s\n",
      "22.26803183555603\n"
     ]
    }
   ],
   "source": [
    "best_models_KNN = {}\n",
    "train_time_KNN = {}\n",
    "for train_set in train_sets_KNN:\n",
    "    print(train_set)\n",
    "    \n",
    "    start_time = time.time()\n",
    "    model_GS_KNN.fit(train_sets_KNN[train_set], y_train)\n",
    "    end_time = time.time()\n",
    "    \n",
    "    best_models_KNN[train_set] = model_GS_KNN.best_estimator_\n",
    "    train_time_KNN[train_set] = end_time - start_time\n",
    "    print(train_time_KNN[train_set])"
   ]
  },
  {
   "cell_type": "code",
   "execution_count": 54,
   "id": "9773799e",
   "metadata": {},
   "outputs": [
    {
     "name": "stdout",
     "output_type": "stream",
     "text": [
      "normal: 0.991037851037851; 0.9858689458689459\n",
      "{'algorithm': 'auto', 'leaf_size': 30, 'metric': 'minkowski', 'metric_params': None, 'n_jobs': None, 'n_neighbors': 7, 'p': 2, 'weights': 'uniform'}\n",
      "PCA: 0.9952625152625153; 0.9888319088319089\n",
      "{'algorithm': 'auto', 'leaf_size': 30, 'metric': 'minkowski', 'metric_params': None, 'n_jobs': None, 'n_neighbors': 3, 'p': 2, 'weights': 'uniform'}\n",
      "RFE: 1.0; 0.9977777777777778\n",
      "{'algorithm': 'auto', 'leaf_size': 30, 'metric': 'minkowski', 'metric_params': None, 'n_jobs': None, 'n_neighbors': 1, 'p': 2, 'weights': 'uniform'}\n"
     ]
    }
   ],
   "source": [
    "train_score_KNN = []\n",
    "test_score_KNN = []\n",
    "for best_model in best_models_KNN:\n",
    "    print(best_model, end = \": \")\n",
    "    \n",
    "    train_score = best_models_KNN[best_model].score(train_sets_KNN[best_model], y_train)\n",
    "    print(train_score, end = \"; \")\n",
    "    train_score_KNN.append(train_score)\n",
    "    \n",
    "    test_score = best_models_KNN[best_model].score(test_sets_KNN[best_model], y_test)\n",
    "    print(test_score)\n",
    "    test_score_KNN.append(test_score)\n",
    "    print(best_models_KNN[best_model].get_params())"
   ]
  },
  {
   "cell_type": "code",
   "execution_count": 40,
   "id": "3ad9984c",
   "metadata": {},
   "outputs": [
    {
     "data": {
      "text/plain": [
       "Text(0.5, 1.0, 'Tacnost na test skupovima')"
      ]
     },
     "execution_count": 40,
     "metadata": {},
     "output_type": "execute_result"
    },
    {
     "data": {
      "image/png": "[encoded data removed]",
      "text/plain": [
       "<Figure size 1000x500 with 2 Axes>"
      ]
     },
     "metadata": {},
     "output_type": "display_data"
    }
   ],
   "source": [
    "fig = plt.figure(figsize=(10, 5))\n",
    "\n",
    "fig.add_subplot(1, 2, 1)\n",
    "barlist1 = plt.bar(train_sets_KNN.keys(), train_score_KNN)\n",
    "barlist1[0].set_color('r')\n",
    "barlist1[1].set_color('g')\n",
    "barlist1[2].set_color('b')\n",
    "plt.ylim([0.9, 1])\n",
    "plt.title('Tacnost na trening skupovima')\n",
    "\n",
    "fig.add_subplot(1, 2, 2)\n",
    "barlist2 = plt.bar(test_sets_KNN.keys(), test_score_KNN)\n",
    "barlist2[0].set_color('r')\n",
    "barlist2[1].set_color('g')\n",
    "barlist2[2].set_color('b')\n",
    "plt.ylim([0.9, 1])\n",
    "plt.title('Tacnost na test skupovima')"
   ]
  },
  {
   "cell_type": "code",
   "execution_count": null,
   "id": "0f63e081",
   "metadata": {},
   "outputs": [],
   "source": []
  },
  {
   "cell_type": "code",
   "execution_count": 32,
   "id": "98ee4e99",
   "metadata": {},
   "outputs": [],
   "source": [
    "#zakljucci"
   ]
  },
  {
   "cell_type": "code",
   "execution_count": 33,
   "id": "9d3bf6e3",
   "metadata": {},
   "outputs": [],
   "source": [
    "#poredjenje razlicitih modela na RFE skupovima"
   ]
  },
  {
   "cell_type": "code",
   "execution_count": 34,
   "id": "beb462f0",
   "metadata": {},
   "outputs": [],
   "source": [
    "best_models = [best_models_DST['RFE'], best_models_RFC['RFE'], best_models_KNN['RFE']]"
   ]
  },
  {
   "cell_type": "code",
   "execution_count": 35,
   "id": "12c03674",
   "metadata": {},
   "outputs": [],
   "source": [
    "best_test_sets = [test_sets['RFE'], test_sets['RFE'], test_sets_KNN['RFE']]"
   ]
  },
  {
   "cell_type": "code",
   "execution_count": 36,
   "id": "40326abc",
   "metadata": {},
   "outputs": [],
   "source": [
    "from sklearn.metrics import accuracy_score\n",
    "from sklearn.metrics import precision_score\n",
    "from sklearn.metrics import recall_score\n",
    "from sklearn.metrics import f1_score\n",
    "from sklearn.metrics import confusion_matrix"
   ]
  },
  {
   "cell_type": "code",
   "execution_count": 37,
   "id": "986c6922",
   "metadata": {},
   "outputs": [
    {
     "name": "stdout",
     "output_type": "stream",
     "text": [
      "0.9924216524216524\n",
      "0.9924356137679922\n",
      "0.9924216524216524\n",
      "0.9924257673119559\n",
      "[[1588    0    0    0    0   11    0    0    2    0    0]\n",
      " [   0 1577    0    0    0    0    0    0    4   15    0]\n",
      " [   0    0 1585    0    9    0    0    1    2    0    0]\n",
      " [   0    0    1 1595    2    0    0    1    0    0    0]\n",
      " [   0    0    8    1 1573    0    0    2    0    0    0]\n",
      " [   8    1    0    0    0 1565    0    0   15    0    0]\n",
      " [   0    0    0    0    0    0 1595    0    0    0    0]\n",
      " [   0    0    1    0   12    0    0 1591    1    0    0]\n",
      " [   0    2    1    0    0   19    0    0 1572    0    0]\n",
      " [   0   14    0    0    0    0    0    0    0 1580    0]\n",
      " [   0    0    0    0    0    0    0    0    0    0 1596]]\n",
      "0.9957264957264957\n",
      "0.9957347425050388\n",
      "0.9957264957264957\n",
      "0.9957281712254641\n",
      "[[1592    0    0    0    0    2    0    0    1    0    0]\n",
      " [   0 1580    0    0    0    0    0    0    4    8    0]\n",
      " [   0    0 1590    1    6    0    0    0    0    0    0]\n",
      " [   0    0    0 1594    3    0    0    1    0    0    0]\n",
      " [   0    0    5    1 1577    0    0    1    0    0    0]\n",
      " [   3    0    0    0    0 1588    0    0    7    0    0]\n",
      " [   0    0    0    0    0    0 1595    0    0    0    0]\n",
      " [   0    0    0    0   10    0    0 1593    1    0    0]\n",
      " [   1    2    1    0    0    5    0    0 1583    0    0]\n",
      " [   0   12    0    0    0    0    0    0    0 1587    0]\n",
      " [   0    0    0    0    0    0    0    0    0    0 1596]]\n",
      "0.9977777777777778\n",
      "0.99778116852952\n",
      "0.9977777777777778\n",
      "0.9977779614154061\n",
      "[[1593    0    0    0    0    5    0    0    1    0    0]\n",
      " [   0 1591    0    0    0    0    0    1    3    6    0]\n",
      " [   0    0 1595    0    2    0    0    0    0    0    0]\n",
      " [   0    0    0 1595    0    0    0    0    0    0    0]\n",
      " [   0    0    1    1 1592    0    0    1    0    0    0]\n",
      " [   3    0    0    0    0 1588    0    0    5    0    0]\n",
      " [   0    0    0    0    0    0 1595    0    0    0    0]\n",
      " [   0    0    0    0    2    0    0 1593    2    0    0]\n",
      " [   0    0    0    0    0    2    0    0 1584    0    0]\n",
      " [   0    3    0    0    0    0    0    0    1 1589    0]\n",
      " [   0    0    0    0    0    0    0    0    0    0 1596]]\n"
     ]
    }
   ],
   "source": [
    "best_test_scores = []\n",
    "for i in range(3):\n",
    "    y_test_predict = best_models[i].predict(best_test_sets[i])\n",
    "    \n",
    "    print(accuracy_score(y_test_predict, y_test))\n",
    "    print(precision_score(y_test_predict, y_test, average='weighted'))\n",
    "    print(recall_score(y_test_predict, y_test, average='weighted'))\n",
    "    print(f1_score(y_test_predict, y_test, average='weighted'))\n",
    "    print(confusion_matrix(y_test_predict, y_test))\n",
    "    \n",
    "    test_score = accuracy_score(y_test_predict, y_test)\n",
    "    best_test_scores.append(test_score)"
   ]
  },
  {
   "cell_type": "code",
   "execution_count": 38,
   "id": "661cc328",
   "metadata": {},
   "outputs": [],
   "source": [
    "best_train_times = [train_time_DST['RFE'], train_time_RFC['RFE'], train_time_KNN['RFE']]"
   ]
  },
  {
   "cell_type": "code",
   "execution_count": 55,
   "id": "ca8bed31",
   "metadata": {},
   "outputs": [
    {
     "data": {
      "text/plain": [
       "Text(0.5, 1.0, 'RFE tacnost na test skupu')"
      ]
     },
     "execution_count": 55,
     "metadata": {},
     "output_type": "execute_result"
    },
    {
     "data": {
      "image/png": "[encoded data removed]",
      "text/plain": [
       "<Figure size 1200x600 with 2 Axes>"
      ]
     },
     "metadata": {},
     "output_type": "display_data"
    }
   ],
   "source": [
    "fig = plt.figure(figsize=(12, 6))\n",
    "\n",
    "fig.add_subplot(1, 2, 1)\n",
    "plt.plot(['DTC', 'RFC', 'KNN'], best_train_times)\n",
    "#plt.ylim([0.95, 1])\n",
    "plt.title('RFE vreme treniranja(u sekundama)')\n",
    "\n",
    "fig.add_subplot(1, 2, 2)\n",
    "barlist1 = plt.bar(['DTC', 'RFC', 'KNN'], best_test_scores)\n",
    "barlist1[0].set_color('brown')\n",
    "barlist1[1].set_color('gray')\n",
    "barlist1[2].set_color('black')\n",
    "plt.ylim([0.95, 1])\n",
    "plt.title('RFE tacnost na test skupu')"
   ]
  },
  {
   "cell_type": "code",
   "execution_count": null,
   "id": "5cd6df90",
   "metadata": {},
   "outputs": [],
   "source": []
  }
 ],
 "metadata": {
  "kernelspec": {
   "display_name": "Python 3 (ipykernel)",
   "language": "python",
   "name": "python3"
  },
  "language_info": {
   "codemirror_mode": {
    "name": "ipython",
    "version": 3
   },
   "file_extension": ".py",
   "mimetype": "text/x-python",
   "name": "python",
   "nbconvert_exporter": "python",
   "pygments_lexer": "ipython3",
   "version": "3.10.6"
  }
 },
 "nbformat": 4,
 "nbformat_minor": 5
}
